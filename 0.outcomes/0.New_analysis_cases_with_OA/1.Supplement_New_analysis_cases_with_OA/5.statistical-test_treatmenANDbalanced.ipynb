{
 "cells": [
  {
   "cell_type": "code",
   "execution_count": 68,
   "metadata": {},
   "outputs": [],
   "source": [
    "import numpy as np\n",
    "import pandas as pd\n",
    "from scipy.stats import chi2_contingency\n",
    "import matplotlib.pyplot as plt\n",
    "from scipy.stats import mannwhitneyu\n",
    "import pandas as pd\n",
    "from statsmodels.stats.proportion import proportions_ztest\n",
    "\n",
    "import matplotlib.pyplot as plt\n",
    "import seaborn as sns\n"
   ]
  },
  {
   "cell_type": "markdown",
   "metadata": {},
   "source": [
    "#### Physical activity"
   ]
  },
  {
   "cell_type": "code",
   "execution_count": 69,
   "metadata": {},
   "outputs": [
    {
     "name": "stdout",
     "output_type": "stream",
     "text": [
      "Physical activity Treatment group: (7603, 9)\n",
      "Physical activity Balanced group:  (1156, 9)\n"
     ]
    }
   ],
   "source": [
    "dfPA_treatment = pd.read_csv(\"testdata1/2.PA_treatment.csv\")\n",
    "dfPA_balanced = pd.read_csv(\"testdata1/3.PA_balanced.csv\").drop(columns='Treatment')\n",
    "\n",
    "print(\"Physical activity Treatment group:\", dfPA_treatment.shape)\n",
    "print(\"Physical activity Balanced group: \", dfPA_balanced.shape)"
   ]
  },
  {
   "cell_type": "code",
   "execution_count": 70,
   "metadata": {},
   "outputs": [
    {
     "name": "stdout",
     "output_type": "stream",
     "text": [
      "Balanced:\n",
      "count    1156.000000\n",
      "mean       56.562284\n",
      "std         7.614893\n",
      "min        45.000000\n",
      "25%        51.000000\n",
      "50%        55.500000\n",
      "75%        61.000000\n",
      "max        79.000000\n",
      "Name: Age, dtype: float64\n",
      "Treatment:\n",
      "count    7603.000000\n",
      "mean       56.692227\n",
      "std         6.818423\n",
      "min        23.000000\n",
      "25%        53.000000\n",
      "50%        57.000000\n",
      "75%        61.000000\n",
      "max        85.000000\n",
      "Name: Age, dtype: float64\n"
     ]
    }
   ],
   "source": [
    "print(\"Balanced:\")\n",
    "print(dfPA_balanced.Age.describe())\n",
    "print(\"Treatment:\")\n",
    "print(dfPA_treatment.Age.describe())"
   ]
  },
  {
   "cell_type": "markdown",
   "metadata": {},
   "source": [
    "##### Create column outcome in categorical:"
   ]
  },
  {
   "cell_type": "code",
   "execution_count": 71,
   "metadata": {},
   "outputs": [],
   "source": [
    "# Define the function to categorize PA_changes\n",
    "def categorize_change(PA_change):\n",
    "    if PA_change > 0:\n",
    "        return 'Increased'\n",
    "    elif PA_change < 0:\n",
    "        return 'Decreased'\n",
    "    else:\n",
    "        return 'Unchanged'\n",
    "\n",
    "# Apply the function to create a new column in df_PA_Balanced_before\n",
    "dfPA_treatment['PA_change_category'] = dfPA_treatment['PA_change'].apply(categorize_change)\n",
    "dfPA_balanced['PA_change_category'] = dfPA_balanced['PA_change'].apply(categorize_change)"
   ]
  },
  {
   "cell_type": "markdown",
   "metadata": {},
   "source": [
    "##### Calculate Chi2:"
   ]
  },
  {
   "cell_type": "code",
   "execution_count": 72,
   "metadata": {},
   "outputs": [
    {
     "name": "stdout",
     "output_type": "stream",
     "text": [
      "Chi-squared Test for PA_change_category across Treatment and Balanced groups\n",
      "Chi2: 66.93576893573248, p-value: 2.917980965784232e-15, Degrees of Freedom: 2\n",
      "\n",
      "Expected Frequencies:\n",
      "[[ 217.63260646 1431.36739354]\n",
      " [ 303.55063363 1996.44936637]\n",
      " [ 634.8167599  4175.1832401 ]]\n",
      "\n",
      "Observed Frequencies:\n",
      "Group               Balanced  Treatment\n",
      "PA_change_category                     \n",
      "Decreased                295       1354\n",
      "Increased                208       2092\n",
      "Unchanged                653       4157\n"
     ]
    }
   ],
   "source": [
    "dfPA_treatment['Group'] = 'Treatment'\n",
    "dfPA_balanced['Group'] = 'Balanced'\n",
    "\n",
    "\n",
    "df_combined = pd.concat([dfPA_treatment, dfPA_balanced])\n",
    "\n",
    "# Create a contingency table for PA_change_category across Treatment and Balanced groups\n",
    "contingency_table = pd.crosstab(df_combined['PA_change_category'], df_combined['Group'])\n",
    "\n",
    "# Perform chi-squared test\n",
    "chi2, p, dof, ex = chi2_contingency(contingency_table)\n",
    "\n",
    "print(f\"Chi-squared Test for PA_change_category across Treatment and Balanced groups\")\n",
    "print(f\"Chi2: {chi2}, p-value: {p}, Degrees of Freedom: {dof}\")\n",
    "print(\"\\nExpected Frequencies:\")\n",
    "print(ex)\n",
    "print(\"\\nObserved Frequencies:\")\n",
    "print(contingency_table)\n"
   ]
  },
  {
   "cell_type": "markdown",
   "metadata": {},
   "source": [
    "#### Quality of life"
   ]
  },
  {
   "cell_type": "code",
   "execution_count": 73,
   "metadata": {},
   "outputs": [],
   "source": [
    "dfQ_treatment = pd.read_csv(\"testdata1/2.QOL_treatment.csv\")\n",
    "dfQ_control = pd.read_csv(\"testdata1/2.QOL_control.csv\")\n",
    "dfQ_balanced = pd.read_csv(\"testdata1/3.QOL_balanced.csv\")"
   ]
  },
  {
   "cell_type": "code",
   "execution_count": 74,
   "metadata": {},
   "outputs": [
    {
     "name": "stdout",
     "output_type": "stream",
     "text": [
      "dfQ_treatment: (7603, 9)\n",
      "dfQ_control: (1156, 9)\n",
      "dfQ_balanced: (1156, 10)\n"
     ]
    }
   ],
   "source": [
    "# List of file paths and corresponding dataframe names\n",
    "files = [\n",
    "    (\"testdata1/2.QOL_treatment.csv\", \"dfQ_treatment\"),\n",
    "    (\"testdata1/2.QOL_control.csv\", \"dfQ_control\"),\n",
    "    (\"testdata1/3.QOL_balanced.csv\", \"dfQ_balanced\"),\n",
    "]\n",
    "\n",
    "# Dictionary to store dataframes\n",
    "dataframes = {}\n",
    "\n",
    "# Loop through each file and read the csv into a dataframe, then store it in the dictionary\n",
    "for file, name in files:\n",
    "    dataframes[name] = pd.read_csv(file)\n",
    "    print(f\"{name}: {dataframes[name].shape}\")"
   ]
  },
  {
   "cell_type": "code",
   "execution_count": 75,
   "metadata": {},
   "outputs": [],
   "source": [
    "# Define the function to categorize PA_changes\n",
    "def QOL_categorize_significant_change(QOL_change):\n",
    "    if QOL_change >= 10:\n",
    "        return 'Increased 10+ points'\n",
    "    elif QOL_change <= -10:\n",
    "        return 'Decreased 10+ points'\n",
    "    else:\n",
    "        return 'Maintained'\n",
    "\n",
    "dfQ_treatment['QOL_change_category'] = dfQ_treatment['QOL_change'].apply(QOL_categorize_significant_change)\n",
    "dfQ_control['QOL_change_category'] = dfQ_control['QOL_change'].apply(QOL_categorize_significant_change)\n",
    "dfQ_balanced['QOL_change_category'] = dfQ_balanced['QOL_change'].apply(QOL_categorize_significant_change)"
   ]
  },
  {
   "cell_type": "code",
   "execution_count": 76,
   "metadata": {},
   "outputs": [
    {
     "data": {
      "text/html": [
       "<div>\n",
       "<style scoped>\n",
       "    .dataframe tbody tr th:only-of-type {\n",
       "        vertical-align: middle;\n",
       "    }\n",
       "\n",
       "    .dataframe tbody tr th {\n",
       "        vertical-align: top;\n",
       "    }\n",
       "\n",
       "    .dataframe thead th {\n",
       "        text-align: right;\n",
       "    }\n",
       "</style>\n",
       "<table border=\"1\" class=\"dataframe\">\n",
       "  <thead>\n",
       "    <tr style=\"text-align: right;\">\n",
       "      <th></th>\n",
       "      <th>Age</th>\n",
       "      <th>Gender</th>\n",
       "      <th>BMI</th>\n",
       "      <th>Depression</th>\n",
       "      <th>Employment_status</th>\n",
       "      <th>Baseline_Physical_Activity</th>\n",
       "      <th>Baseline_Pain</th>\n",
       "      <th>Baseline_Quality_of_life</th>\n",
       "      <th>QOL_change</th>\n",
       "      <th>Treatment</th>\n",
       "      <th>QOL_change_category</th>\n",
       "    </tr>\n",
       "  </thead>\n",
       "  <tbody>\n",
       "    <tr>\n",
       "      <th>0</th>\n",
       "      <td>68.0</td>\n",
       "      <td>1.0</td>\n",
       "      <td>31.6</td>\n",
       "      <td>1.0</td>\n",
       "      <td>1.0</td>\n",
       "      <td>1</td>\n",
       "      <td>30.0</td>\n",
       "      <td>56.25</td>\n",
       "      <td>25.00</td>\n",
       "      <td>0</td>\n",
       "      <td>Increased 10+ points</td>\n",
       "    </tr>\n",
       "    <tr>\n",
       "      <th>1</th>\n",
       "      <td>59.0</td>\n",
       "      <td>2.0</td>\n",
       "      <td>26.8</td>\n",
       "      <td>1.0</td>\n",
       "      <td>1.0</td>\n",
       "      <td>2</td>\n",
       "      <td>70.0</td>\n",
       "      <td>37.50</td>\n",
       "      <td>12.50</td>\n",
       "      <td>0</td>\n",
       "      <td>Increased 10+ points</td>\n",
       "    </tr>\n",
       "    <tr>\n",
       "      <th>2</th>\n",
       "      <td>59.0</td>\n",
       "      <td>2.0</td>\n",
       "      <td>26.8</td>\n",
       "      <td>1.0</td>\n",
       "      <td>1.0</td>\n",
       "      <td>2</td>\n",
       "      <td>70.0</td>\n",
       "      <td>37.50</td>\n",
       "      <td>12.50</td>\n",
       "      <td>0</td>\n",
       "      <td>Increased 10+ points</td>\n",
       "    </tr>\n",
       "    <tr>\n",
       "      <th>3</th>\n",
       "      <td>59.0</td>\n",
       "      <td>2.0</td>\n",
       "      <td>26.8</td>\n",
       "      <td>1.0</td>\n",
       "      <td>1.0</td>\n",
       "      <td>2</td>\n",
       "      <td>70.0</td>\n",
       "      <td>37.50</td>\n",
       "      <td>12.50</td>\n",
       "      <td>0</td>\n",
       "      <td>Increased 10+ points</td>\n",
       "    </tr>\n",
       "    <tr>\n",
       "      <th>4</th>\n",
       "      <td>46.0</td>\n",
       "      <td>1.0</td>\n",
       "      <td>30.0</td>\n",
       "      <td>1.0</td>\n",
       "      <td>1.0</td>\n",
       "      <td>1</td>\n",
       "      <td>20.0</td>\n",
       "      <td>68.75</td>\n",
       "      <td>12.50</td>\n",
       "      <td>0</td>\n",
       "      <td>Increased 10+ points</td>\n",
       "    </tr>\n",
       "    <tr>\n",
       "      <th>...</th>\n",
       "      <td>...</td>\n",
       "      <td>...</td>\n",
       "      <td>...</td>\n",
       "      <td>...</td>\n",
       "      <td>...</td>\n",
       "      <td>...</td>\n",
       "      <td>...</td>\n",
       "      <td>...</td>\n",
       "      <td>...</td>\n",
       "      <td>...</td>\n",
       "      <td>...</td>\n",
       "    </tr>\n",
       "    <tr>\n",
       "      <th>1151</th>\n",
       "      <td>61.0</td>\n",
       "      <td>2.0</td>\n",
       "      <td>33.2</td>\n",
       "      <td>1.0</td>\n",
       "      <td>1.0</td>\n",
       "      <td>3</td>\n",
       "      <td>30.0</td>\n",
       "      <td>37.50</td>\n",
       "      <td>-12.50</td>\n",
       "      <td>0</td>\n",
       "      <td>Decreased 10+ points</td>\n",
       "    </tr>\n",
       "    <tr>\n",
       "      <th>1152</th>\n",
       "      <td>61.0</td>\n",
       "      <td>2.0</td>\n",
       "      <td>33.2</td>\n",
       "      <td>1.0</td>\n",
       "      <td>1.0</td>\n",
       "      <td>3</td>\n",
       "      <td>30.0</td>\n",
       "      <td>37.50</td>\n",
       "      <td>-12.50</td>\n",
       "      <td>0</td>\n",
       "      <td>Decreased 10+ points</td>\n",
       "    </tr>\n",
       "    <tr>\n",
       "      <th>1153</th>\n",
       "      <td>61.0</td>\n",
       "      <td>2.0</td>\n",
       "      <td>33.2</td>\n",
       "      <td>1.0</td>\n",
       "      <td>1.0</td>\n",
       "      <td>3</td>\n",
       "      <td>30.0</td>\n",
       "      <td>37.50</td>\n",
       "      <td>-12.50</td>\n",
       "      <td>0</td>\n",
       "      <td>Decreased 10+ points</td>\n",
       "    </tr>\n",
       "    <tr>\n",
       "      <th>1154</th>\n",
       "      <td>59.0</td>\n",
       "      <td>1.0</td>\n",
       "      <td>34.1</td>\n",
       "      <td>1.0</td>\n",
       "      <td>1.0</td>\n",
       "      <td>3</td>\n",
       "      <td>90.0</td>\n",
       "      <td>37.50</td>\n",
       "      <td>18.75</td>\n",
       "      <td>0</td>\n",
       "      <td>Increased 10+ points</td>\n",
       "    </tr>\n",
       "    <tr>\n",
       "      <th>1155</th>\n",
       "      <td>57.0</td>\n",
       "      <td>2.0</td>\n",
       "      <td>39.9</td>\n",
       "      <td>1.0</td>\n",
       "      <td>1.0</td>\n",
       "      <td>2</td>\n",
       "      <td>80.0</td>\n",
       "      <td>43.75</td>\n",
       "      <td>-25.00</td>\n",
       "      <td>0</td>\n",
       "      <td>Decreased 10+ points</td>\n",
       "    </tr>\n",
       "  </tbody>\n",
       "</table>\n",
       "<p>1156 rows × 11 columns</p>\n",
       "</div>"
      ],
      "text/plain": [
       "       Age  Gender   BMI  Depression  Employment_status  \\\n",
       "0     68.0     1.0  31.6         1.0                1.0   \n",
       "1     59.0     2.0  26.8         1.0                1.0   \n",
       "2     59.0     2.0  26.8         1.0                1.0   \n",
       "3     59.0     2.0  26.8         1.0                1.0   \n",
       "4     46.0     1.0  30.0         1.0                1.0   \n",
       "...    ...     ...   ...         ...                ...   \n",
       "1151  61.0     2.0  33.2         1.0                1.0   \n",
       "1152  61.0     2.0  33.2         1.0                1.0   \n",
       "1153  61.0     2.0  33.2         1.0                1.0   \n",
       "1154  59.0     1.0  34.1         1.0                1.0   \n",
       "1155  57.0     2.0  39.9         1.0                1.0   \n",
       "\n",
       "      Baseline_Physical_Activity  Baseline_Pain  Baseline_Quality_of_life  \\\n",
       "0                              1           30.0                     56.25   \n",
       "1                              2           70.0                     37.50   \n",
       "2                              2           70.0                     37.50   \n",
       "3                              2           70.0                     37.50   \n",
       "4                              1           20.0                     68.75   \n",
       "...                          ...            ...                       ...   \n",
       "1151                           3           30.0                     37.50   \n",
       "1152                           3           30.0                     37.50   \n",
       "1153                           3           30.0                     37.50   \n",
       "1154                           3           90.0                     37.50   \n",
       "1155                           2           80.0                     43.75   \n",
       "\n",
       "      QOL_change  Treatment   QOL_change_category  \n",
       "0          25.00          0  Increased 10+ points  \n",
       "1          12.50          0  Increased 10+ points  \n",
       "2          12.50          0  Increased 10+ points  \n",
       "3          12.50          0  Increased 10+ points  \n",
       "4          12.50          0  Increased 10+ points  \n",
       "...          ...        ...                   ...  \n",
       "1151      -12.50          0  Decreased 10+ points  \n",
       "1152      -12.50          0  Decreased 10+ points  \n",
       "1153      -12.50          0  Decreased 10+ points  \n",
       "1154       18.75          0  Increased 10+ points  \n",
       "1155      -25.00          0  Decreased 10+ points  \n",
       "\n",
       "[1156 rows x 11 columns]"
      ]
     },
     "execution_count": 76,
     "metadata": {},
     "output_type": "execute_result"
    }
   ],
   "source": [
    "dfQ_balanced"
   ]
  },
  {
   "cell_type": "code",
   "execution_count": 77,
   "metadata": {},
   "outputs": [
    {
     "name": "stdout",
     "output_type": "stream",
     "text": [
      "Chi-squared Test for QOL_change_category across Treatment and Balanced groups\n",
      "Chi2: 35.349359223014204, p-value: 2.108551317805186e-08, Degrees of Freedom: 2\n",
      "\n",
      "Expected Frequencies:\n",
      "[[ 141.08505537  927.91494463]\n",
      " [ 546.39114054 3593.60885946]\n",
      " [ 468.52380409 3081.47619591]]\n",
      "\n",
      "Observed Frequencies:\n",
      "Group                 Balanced  Treatment\n",
      "QOL_change_category                      \n",
      "Decreased 10+ points       156        913\n",
      "Increased 10+ points       453       3687\n",
      "Maintained                 547       3003\n"
     ]
    }
   ],
   "source": [
    "# Add a new column to identify the group\n",
    "dfQ_treatment['Group'] = 'Treatment'\n",
    "dfQ_balanced['Group'] = 'Balanced'\n",
    "\n",
    "# Combine the dataframes\n",
    "dfQ_combined = pd.concat([dfQ_treatment, dfQ_balanced])\n",
    "\n",
    "# Create a contingency table for QOL_change_category across Treatment and Balanced groups\n",
    "contingency_table = pd.crosstab(dfQ_combined['QOL_change_category'], dfQ_combined['Group'])\n",
    "\n",
    "# Perform chi-squared test\n",
    "chi2, p, dof, ex = chi2_contingency(contingency_table)\n",
    "\n",
    "# Display results\n",
    "print(f\"Chi-squared Test for QOL_change_category across Treatment and Balanced groups\")\n",
    "print(f\"Chi2: {chi2}, p-value: {p}, Degrees of Freedom: {dof}\")\n",
    "print(\"\\nExpected Frequencies:\")\n",
    "print(ex)\n",
    "print(\"\\nObserved Frequencies:\")\n",
    "print(contingency_table)\n"
   ]
  },
  {
   "cell_type": "markdown",
   "metadata": {},
   "source": [
    "#### Pain"
   ]
  },
  {
   "cell_type": "code",
   "execution_count": 78,
   "metadata": {},
   "outputs": [],
   "source": [
    "dfpain_treatment = pd.read_csv(\"testdata1/2.Pain_treatment.csv\")\n",
    "dfpain_control = pd.read_csv(\"testdata1/2.Pain_control.csv\")\n",
    "dfpain_balanced = pd.read_csv(\"testdata1/3.Pain_balanced.csv\")"
   ]
  },
  {
   "cell_type": "code",
   "execution_count": 79,
   "metadata": {},
   "outputs": [
    {
     "name": "stdout",
     "output_type": "stream",
     "text": [
      "dfpain_treatment: (7603, 9)\n",
      "dfpain_control: (1156, 9)\n",
      "dfpain_balanced: (1156, 10)\n"
     ]
    }
   ],
   "source": [
    "# List of file paths and corresponding dataframe names\n",
    "files = [\n",
    "    (\"testdata1/2.Pain_treatment.csv\", \"dfpain_treatment\"),\n",
    "    (\"testdata1/2.Pain_control.csv\", \"dfpain_control\"),\n",
    "    (\"testdata1/3.Pain_balanced.csv\", \"dfpain_balanced\")\n",
    "]\n",
    "\n",
    "# Dictionary to store dataframes\n",
    "dataframes = {}\n",
    "\n",
    "# Loop through each file and read the csv into a dataframe, then store it in the dictionary\n",
    "for file, name in files:\n",
    "    dataframes[name] = pd.read_csv(file)\n",
    "    print(f\"{name}: {dataframes[name].shape}\")\n"
   ]
  },
  {
   "cell_type": "code",
   "execution_count": 80,
   "metadata": {},
   "outputs": [],
   "source": [
    "# Define the function to categorize changes of at least 20 points\n",
    "def pain_categorize_significant_change(pain_change):\n",
    "    if pain_change <= -20:\n",
    "        return 'Decreased 20+ points'\n",
    "    elif pain_change >= 20:\n",
    "        return 'Increased 20+ points'\n",
    "    else:\n",
    "        return 'Maintained'  # This now clearly means the pain changed but less than 20 points either way\n",
    "\n",
    "dfpain_treatment['pain_change_category'] = dfpain_treatment['pain_change'].apply(pain_categorize_significant_change)\n",
    "dfpain_control['pain_change_category'] = dfpain_control['pain_change'].apply(pain_categorize_significant_change)\n",
    "dfpain_balanced['pain_change_category'] = dfpain_balanced['pain_change'].apply(pain_categorize_significant_change)\n"
   ]
  },
  {
   "cell_type": "code",
   "execution_count": 81,
   "metadata": {},
   "outputs": [
    {
     "name": "stdout",
     "output_type": "stream",
     "text": [
      "Chi-squared Test for pain_change_category across Treatment and Balanced groups\n",
      "Chi2: 320.6828443619327, p-value: 2.3152885620800252e-70, Degrees of Freedom: 2\n",
      "\n",
      "Expected Frequencies:\n",
      "[[ 433.28553488 2849.71446512]\n",
      " [ 115.61319785  760.38680215]\n",
      " [ 607.10126727 3992.89873273]]\n",
      "\n",
      "Observed Frequencies:\n",
      "Group                 Balanced  Treatment\n",
      "pain_change_category                     \n",
      "Decreased 20+ points       291       2992\n",
      "Increased 20+ points       279        597\n",
      "Maintained                 586       4014\n"
     ]
    }
   ],
   "source": [
    "# Add a new column to identify the group\n",
    "dfpain_treatment['Group'] = 'Treatment'\n",
    "dfpain_balanced['Group'] = 'Balanced'\n",
    "\n",
    "# Combine the dataframes\n",
    "dfpain_combined = pd.concat([dfpain_treatment, dfpain_balanced])\n",
    "\n",
    "# Create a contingency table for pain_change_category across Treatment and Balanced groups\n",
    "contingency_table = pd.crosstab(dfpain_combined['pain_change_category'], dfpain_combined['Group'])\n",
    "\n",
    "# Perform chi-squared test\n",
    "chi2, p, dof, ex = chi2_contingency(contingency_table)\n",
    "\n",
    "# Display results\n",
    "print(f\"Chi-squared Test for pain_change_category across Treatment and Balanced groups\")\n",
    "print(f\"Chi2: {chi2}, p-value: {p}, Degrees of Freedom: {dof}\")\n",
    "print(\"\\nExpected Frequencies:\")\n",
    "print(ex)\n",
    "print(\"\\nObserved Frequencies:\")\n",
    "print(contingency_table)\n"
   ]
  },
  {
   "cell_type": "code",
   "execution_count": null,
   "metadata": {},
   "outputs": [],
   "source": []
  },
  {
   "cell_type": "code",
   "execution_count": null,
   "metadata": {},
   "outputs": [],
   "source": []
  },
  {
   "cell_type": "code",
   "execution_count": null,
   "metadata": {},
   "outputs": [],
   "source": []
  },
  {
   "cell_type": "code",
   "execution_count": null,
   "metadata": {},
   "outputs": [],
   "source": []
  }
 ],
 "metadata": {
  "kernelspec": {
   "display_name": "physioai",
   "language": "python",
   "name": "python3"
  },
  "language_info": {
   "codemirror_mode": {
    "name": "ipython",
    "version": 3
   },
   "file_extension": ".py",
   "mimetype": "text/x-python",
   "name": "python",
   "nbconvert_exporter": "python",
   "pygments_lexer": "ipython3",
   "version": "3.10.13"
  }
 },
 "nbformat": 4,
 "nbformat_minor": 2
}
