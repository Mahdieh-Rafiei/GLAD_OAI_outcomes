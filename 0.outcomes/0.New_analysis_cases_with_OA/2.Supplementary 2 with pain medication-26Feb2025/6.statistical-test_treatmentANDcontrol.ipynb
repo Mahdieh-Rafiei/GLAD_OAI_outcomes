{
 "cells": [
  {
   "cell_type": "code",
   "execution_count": 1,
   "metadata": {},
   "outputs": [
    {
     "name": "stderr",
     "output_type": "stream",
     "text": [
      "/Users/mahdie/opt/anaconda3/envs/physioai/lib/python3.10/site-packages/pandas/core/arrays/masked.py:60: UserWarning: Pandas requires version '1.3.6' or newer of 'bottleneck' (version '1.3.5' currently installed).\n",
      "  from pandas.core import (\n"
     ]
    }
   ],
   "source": [
    "import numpy as np\n",
    "import pandas as pd\n",
    "from scipy.stats import chi2_contingency\n",
    "import matplotlib.pyplot as plt\n",
    "from scipy.stats import mannwhitneyu\n",
    "import pandas as pd\n",
    "from statsmodels.stats.proportion import proportions_ztest\n",
    "\n",
    "import matplotlib.pyplot as plt\n",
    "import seaborn as sns"
   ]
  },
  {
   "cell_type": "markdown",
   "metadata": {},
   "source": [
    "#### Physical activity"
   ]
  },
  {
   "cell_type": "code",
   "execution_count": 2,
   "metadata": {},
   "outputs": [],
   "source": [
    "dfPA_treatment = pd.read_csv(\"testdata/2.PA_treatment.csv\")\n",
    "dfPA_control = pd.read_csv(\"testdata/2.PA_control.csv\")\n",
    "dfPA_balanced = pd.read_csv(\"testdata/3.PA_balanced.csv\")"
   ]
  },
  {
   "cell_type": "code",
   "execution_count": 3,
   "metadata": {},
   "outputs": [
    {
     "name": "stdout",
     "output_type": "stream",
     "text": [
      "dfPA_treatment: (7603, 9)\n",
      "dfPA_control: (1169, 9)\n",
      "dfPA_balanced: (1169, 10)\n"
     ]
    }
   ],
   "source": [
    "# List of file paths and corresponding dataframe names\n",
    "files = [\n",
    "    (\"testdata/2.PA_treatment.csv\", \"dfPA_treatment\"),\n",
    "    (\"testdata/2.PA_control.csv\", \"dfPA_control\"),\n",
    "    (\"testdata/3.PA_balanced.csv\", \"dfPA_balanced\"),\n",
    "]\n",
    "\n",
    "# Dictionary to store dataframes\n",
    "dataframes = {}\n",
    "\n",
    "# Loop through each file and read the csv into a dataframe, then store it in the dictionary\n",
    "for file, name in files:\n",
    "    dataframes[name] = pd.read_csv(file)\n",
    "    print(f\"{name}: {dataframes[name].shape}\")"
   ]
  },
  {
   "cell_type": "markdown",
   "metadata": {},
   "source": [
    "##### Create column outcome in categorical:"
   ]
  },
  {
   "cell_type": "code",
   "execution_count": 4,
   "metadata": {},
   "outputs": [],
   "source": [
    "# Define the function to categorize PA_changes\n",
    "def categorize_change(PA_change):\n",
    "    if PA_change > 0:\n",
    "        return 'Increased'\n",
    "    elif PA_change < 0:\n",
    "        return 'Decreased'\n",
    "    else:\n",
    "        return 'Unchanged'\n",
    "\n",
    "# Apply the function to create a new column in df_PA_control_before\n",
    "dfPA_treatment['PA_change_category'] = dfPA_treatment['PA_change'].apply(categorize_change)\n",
    "dfPA_control['PA_change_category'] = dfPA_control['PA_change'].apply(categorize_change)"
   ]
  },
  {
   "cell_type": "markdown",
   "metadata": {},
   "source": [
    "##### Calculate Chi2:"
   ]
  },
  {
   "cell_type": "code",
   "execution_count": 5,
   "metadata": {},
   "outputs": [
    {
     "name": "stdout",
     "output_type": "stream",
     "text": [
      "Chi-squared Test for PA_change_category across Treatment and Control groups\n",
      "Chi2: 24.406773809422873, p-value: 5.013446753257896e-06, Degrees of Freedom: 2\n",
      "\n",
      "Expected Frequencies:\n",
      "[[ 335.02804378 2178.97195622]\n",
      " [ 471.89113087 3069.10886913]\n",
      " [ 362.08082535 2354.91917465]]\n",
      "\n",
      "Observed Frequencies:\n",
      "Group               Control  Treatment\n",
      "PA_change_category                    \n",
      "Decreased               401       2113\n",
      "Increased               410       3131\n",
      "Unchanged               358       2359\n"
     ]
    }
   ],
   "source": [
    "dfPA_treatment['Group'] = 'Treatment'\n",
    "dfPA_control['Group'] = 'Control'\n",
    "\n",
    "\n",
    "df_combined = pd.concat([dfPA_treatment, dfPA_control])\n",
    "\n",
    "# Create a contingency table for PA_change_category across Treatment and Control groups\n",
    "contingency_table = pd.crosstab(df_combined['PA_change_category'], df_combined['Group'])\n",
    "\n",
    "# Perform chi-squared test\n",
    "chi2, p, dof, ex = chi2_contingency(contingency_table)\n",
    "\n",
    "print(f\"Chi-squared Test for PA_change_category across Treatment and Control groups\")\n",
    "print(f\"Chi2: {chi2}, p-value: {p}, Degrees of Freedom: {dof}\")\n",
    "print(\"\\nExpected Frequencies:\")\n",
    "print(ex)\n",
    "print(\"\\nObserved Frequencies:\")\n",
    "print(contingency_table)\n"
   ]
  },
  {
   "cell_type": "markdown",
   "metadata": {},
   "source": [
    "#### Quality of life"
   ]
  },
  {
   "cell_type": "code",
   "execution_count": 6,
   "metadata": {},
   "outputs": [],
   "source": [
    "dfQ_treatment = pd.read_csv(\"testdata/2.QOL_treatment.csv\")\n",
    "dfQ_control = pd.read_csv(\"testdata/2.QOL_control.csv\")\n",
    "dfQ_balanced = pd.read_csv(\"testdata/3.QOL_balanced.csv\")"
   ]
  },
  {
   "cell_type": "code",
   "execution_count": 7,
   "metadata": {},
   "outputs": [
    {
     "name": "stdout",
     "output_type": "stream",
     "text": [
      "dfQ_treatment: (7603, 9)\n",
      "dfQ_control: (1169, 9)\n",
      "dfQ_balanced: (1169, 10)\n"
     ]
    }
   ],
   "source": [
    "# List of file paths and corresponding dataframe names\n",
    "files = [\n",
    "    (\"testdata/2.QOL_treatment.csv\", \"dfQ_treatment\"),\n",
    "    (\"testdata/2.QOL_control.csv\", \"dfQ_control\"),\n",
    "    (\"testdata/3.QOL_balanced.csv\", \"dfQ_balanced\"),\n",
    "]\n",
    "\n",
    "# Dictionary to store dataframes\n",
    "dataframes = {}\n",
    "\n",
    "# Loop through each file and read the csv into a dataframe, then store it in the dictionary\n",
    "for file, name in files:\n",
    "    dataframes[name] = pd.read_csv(file)\n",
    "    print(f\"{name}: {dataframes[name].shape}\")"
   ]
  },
  {
   "cell_type": "code",
   "execution_count": 8,
   "metadata": {},
   "outputs": [],
   "source": [
    "# Define the function to categorize PA_changes\n",
    "def QOL_categorize_significant_change(QOL_change):\n",
    "    if QOL_change >= 10:\n",
    "        return 'Increased 10+ points'\n",
    "    elif QOL_change <= -10:\n",
    "        return 'Decreased 10+ points'\n",
    "    else:\n",
    "        return 'Maintained'\n",
    "\n",
    "dfQ_treatment['QOL_change_category'] = dfQ_treatment['QOL_change'].apply(QOL_categorize_significant_change)\n",
    "dfQ_control['QOL_change_category'] = dfQ_control['QOL_change'].apply(QOL_categorize_significant_change)\n",
    "dfQ_balanced['QOL_change_category'] = dfQ_balanced['QOL_change'].apply(QOL_categorize_significant_change)"
   ]
  },
  {
   "cell_type": "code",
   "execution_count": 9,
   "metadata": {},
   "outputs": [
    {
     "data": {
      "text/html": [
       "<div>\n",
       "<style scoped>\n",
       "    .dataframe tbody tr th:only-of-type {\n",
       "        vertical-align: middle;\n",
       "    }\n",
       "\n",
       "    .dataframe tbody tr th {\n",
       "        vertical-align: top;\n",
       "    }\n",
       "\n",
       "    .dataframe thead th {\n",
       "        text-align: right;\n",
       "    }\n",
       "</style>\n",
       "<table border=\"1\" class=\"dataframe\">\n",
       "  <thead>\n",
       "    <tr style=\"text-align: right;\">\n",
       "      <th></th>\n",
       "      <th>Age</th>\n",
       "      <th>Gender</th>\n",
       "      <th>BMI</th>\n",
       "      <th>Depression</th>\n",
       "      <th>Employment_status</th>\n",
       "      <th>Baseline_Physical_Activity</th>\n",
       "      <th>Baseline_Pain</th>\n",
       "      <th>Baseline_Quality_of_life</th>\n",
       "      <th>QOL_change</th>\n",
       "      <th>QOL_change_category</th>\n",
       "    </tr>\n",
       "  </thead>\n",
       "  <tbody>\n",
       "    <tr>\n",
       "      <th>0</th>\n",
       "      <td>75.0</td>\n",
       "      <td>1.0</td>\n",
       "      <td>27.2</td>\n",
       "      <td>1.0</td>\n",
       "      <td>3.0</td>\n",
       "      <td>1</td>\n",
       "      <td>0.0</td>\n",
       "      <td>75.00</td>\n",
       "      <td>25.00</td>\n",
       "      <td>Increased 10+ points</td>\n",
       "    </tr>\n",
       "    <tr>\n",
       "      <th>1</th>\n",
       "      <td>77.0</td>\n",
       "      <td>1.0</td>\n",
       "      <td>33.6</td>\n",
       "      <td>1.0</td>\n",
       "      <td>3.0</td>\n",
       "      <td>1</td>\n",
       "      <td>50.0</td>\n",
       "      <td>37.50</td>\n",
       "      <td>12.50</td>\n",
       "      <td>Increased 10+ points</td>\n",
       "    </tr>\n",
       "    <tr>\n",
       "      <th>2</th>\n",
       "      <td>76.0</td>\n",
       "      <td>1.0</td>\n",
       "      <td>31.0</td>\n",
       "      <td>2.0</td>\n",
       "      <td>3.0</td>\n",
       "      <td>1</td>\n",
       "      <td>10.0</td>\n",
       "      <td>56.25</td>\n",
       "      <td>6.25</td>\n",
       "      <td>Maintained</td>\n",
       "    </tr>\n",
       "    <tr>\n",
       "      <th>3</th>\n",
       "      <td>69.0</td>\n",
       "      <td>1.0</td>\n",
       "      <td>31.8</td>\n",
       "      <td>2.0</td>\n",
       "      <td>1.0</td>\n",
       "      <td>1</td>\n",
       "      <td>30.0</td>\n",
       "      <td>62.50</td>\n",
       "      <td>6.25</td>\n",
       "      <td>Maintained</td>\n",
       "    </tr>\n",
       "    <tr>\n",
       "      <th>4</th>\n",
       "      <td>74.0</td>\n",
       "      <td>1.0</td>\n",
       "      <td>29.6</td>\n",
       "      <td>1.0</td>\n",
       "      <td>1.0</td>\n",
       "      <td>1</td>\n",
       "      <td>70.0</td>\n",
       "      <td>50.00</td>\n",
       "      <td>-6.25</td>\n",
       "      <td>Maintained</td>\n",
       "    </tr>\n",
       "    <tr>\n",
       "      <th>...</th>\n",
       "      <td>...</td>\n",
       "      <td>...</td>\n",
       "      <td>...</td>\n",
       "      <td>...</td>\n",
       "      <td>...</td>\n",
       "      <td>...</td>\n",
       "      <td>...</td>\n",
       "      <td>...</td>\n",
       "      <td>...</td>\n",
       "      <td>...</td>\n",
       "    </tr>\n",
       "    <tr>\n",
       "      <th>1164</th>\n",
       "      <td>46.0</td>\n",
       "      <td>2.0</td>\n",
       "      <td>26.9</td>\n",
       "      <td>2.0</td>\n",
       "      <td>1.0</td>\n",
       "      <td>10</td>\n",
       "      <td>60.0</td>\n",
       "      <td>56.25</td>\n",
       "      <td>12.50</td>\n",
       "      <td>Increased 10+ points</td>\n",
       "    </tr>\n",
       "    <tr>\n",
       "      <th>1165</th>\n",
       "      <td>54.0</td>\n",
       "      <td>1.0</td>\n",
       "      <td>27.6</td>\n",
       "      <td>2.0</td>\n",
       "      <td>1.0</td>\n",
       "      <td>10</td>\n",
       "      <td>20.0</td>\n",
       "      <td>68.75</td>\n",
       "      <td>0.00</td>\n",
       "      <td>Maintained</td>\n",
       "    </tr>\n",
       "    <tr>\n",
       "      <th>1166</th>\n",
       "      <td>56.0</td>\n",
       "      <td>2.0</td>\n",
       "      <td>27.5</td>\n",
       "      <td>1.0</td>\n",
       "      <td>1.0</td>\n",
       "      <td>10</td>\n",
       "      <td>40.0</td>\n",
       "      <td>43.75</td>\n",
       "      <td>12.50</td>\n",
       "      <td>Increased 10+ points</td>\n",
       "    </tr>\n",
       "    <tr>\n",
       "      <th>1167</th>\n",
       "      <td>57.0</td>\n",
       "      <td>1.0</td>\n",
       "      <td>33.6</td>\n",
       "      <td>2.0</td>\n",
       "      <td>1.0</td>\n",
       "      <td>10</td>\n",
       "      <td>40.0</td>\n",
       "      <td>68.75</td>\n",
       "      <td>0.00</td>\n",
       "      <td>Maintained</td>\n",
       "    </tr>\n",
       "    <tr>\n",
       "      <th>1168</th>\n",
       "      <td>53.0</td>\n",
       "      <td>2.0</td>\n",
       "      <td>30.1</td>\n",
       "      <td>1.0</td>\n",
       "      <td>1.0</td>\n",
       "      <td>10</td>\n",
       "      <td>50.0</td>\n",
       "      <td>50.00</td>\n",
       "      <td>6.25</td>\n",
       "      <td>Maintained</td>\n",
       "    </tr>\n",
       "  </tbody>\n",
       "</table>\n",
       "<p>1169 rows × 10 columns</p>\n",
       "</div>"
      ],
      "text/plain": [
       "       Age  Gender   BMI  Depression  Employment_status  \\\n",
       "0     75.0     1.0  27.2         1.0                3.0   \n",
       "1     77.0     1.0  33.6         1.0                3.0   \n",
       "2     76.0     1.0  31.0         2.0                3.0   \n",
       "3     69.0     1.0  31.8         2.0                1.0   \n",
       "4     74.0     1.0  29.6         1.0                1.0   \n",
       "...    ...     ...   ...         ...                ...   \n",
       "1164  46.0     2.0  26.9         2.0                1.0   \n",
       "1165  54.0     1.0  27.6         2.0                1.0   \n",
       "1166  56.0     2.0  27.5         1.0                1.0   \n",
       "1167  57.0     1.0  33.6         2.0                1.0   \n",
       "1168  53.0     2.0  30.1         1.0                1.0   \n",
       "\n",
       "      Baseline_Physical_Activity  Baseline_Pain  Baseline_Quality_of_life  \\\n",
       "0                              1            0.0                     75.00   \n",
       "1                              1           50.0                     37.50   \n",
       "2                              1           10.0                     56.25   \n",
       "3                              1           30.0                     62.50   \n",
       "4                              1           70.0                     50.00   \n",
       "...                          ...            ...                       ...   \n",
       "1164                          10           60.0                     56.25   \n",
       "1165                          10           20.0                     68.75   \n",
       "1166                          10           40.0                     43.75   \n",
       "1167                          10           40.0                     68.75   \n",
       "1168                          10           50.0                     50.00   \n",
       "\n",
       "      QOL_change   QOL_change_category  \n",
       "0          25.00  Increased 10+ points  \n",
       "1          12.50  Increased 10+ points  \n",
       "2           6.25            Maintained  \n",
       "3           6.25            Maintained  \n",
       "4          -6.25            Maintained  \n",
       "...          ...                   ...  \n",
       "1164       12.50  Increased 10+ points  \n",
       "1165        0.00            Maintained  \n",
       "1166       12.50  Increased 10+ points  \n",
       "1167        0.00            Maintained  \n",
       "1168        6.25            Maintained  \n",
       "\n",
       "[1169 rows x 10 columns]"
      ]
     },
     "execution_count": 9,
     "metadata": {},
     "output_type": "execute_result"
    }
   ],
   "source": [
    "dfQ_control"
   ]
  },
  {
   "cell_type": "code",
   "execution_count": 10,
   "metadata": {},
   "outputs": [
    {
     "name": "stdout",
     "output_type": "stream",
     "text": [
      "Chi-squared Test for QOL_change_category across Treatment and Control groups\n",
      "Chi2: 87.26888705870027, p-value: 1.1215069113307754e-19, Degrees of Freedom: 2\n",
      "\n",
      "Expected Frequencies:\n",
      "[[ 151.78875969  987.21124031]\n",
      " [ 546.51949384 3554.48050616]\n",
      " [ 470.69174647 3061.30825353]]\n",
      "\n",
      "Observed Frequencies:\n",
      "Group                 Control  Treatment\n",
      "QOL_change_category                     \n",
      "Decreased 10+ points      226        913\n",
      "Increased 10+ points      414       3687\n",
      "Maintained                529       3003\n"
     ]
    }
   ],
   "source": [
    "# Add a new column to identify the group\n",
    "dfQ_treatment['Group'] = 'Treatment'\n",
    "dfQ_control['Group'] = 'Control'\n",
    "\n",
    "# Combine the dataframes\n",
    "dfQ_combined = pd.concat([dfQ_treatment, dfQ_control])\n",
    "\n",
    "# Create a contingency table for QOL_change_category across Treatment and Control groups\n",
    "contingency_table = pd.crosstab(dfQ_combined['QOL_change_category'], dfQ_combined['Group'])\n",
    "\n",
    "# Perform chi-squared test\n",
    "chi2, p, dof, ex = chi2_contingency(contingency_table)\n",
    "\n",
    "# Display results\n",
    "print(f\"Chi-squared Test for QOL_change_category across Treatment and Control groups\")\n",
    "print(f\"Chi2: {chi2}, p-value: {p}, Degrees of Freedom: {dof}\")\n",
    "print(\"\\nExpected Frequencies:\")\n",
    "print(ex)\n",
    "print(\"\\nObserved Frequencies:\")\n",
    "print(contingency_table)\n"
   ]
  },
  {
   "cell_type": "markdown",
   "metadata": {},
   "source": [
    "#### Pain"
   ]
  },
  {
   "cell_type": "code",
   "execution_count": 11,
   "metadata": {},
   "outputs": [],
   "source": [
    "dfpain_treatment = pd.read_csv(\"testdata/2.Pain_treatment.csv\")\n",
    "dfpain_control = pd.read_csv(\"testdata/2.Pain_control.csv\")\n",
    "dfpain_balanced = pd.read_csv(\"testdata/3.Pain_balanced.csv\")"
   ]
  },
  {
   "cell_type": "code",
   "execution_count": 12,
   "metadata": {},
   "outputs": [
    {
     "name": "stdout",
     "output_type": "stream",
     "text": [
      "dfpain_treatment: (7603, 9)\n",
      "dfpain_control: (1169, 9)\n",
      "dfpain_balanced: (1169, 10)\n"
     ]
    }
   ],
   "source": [
    "# List of file paths and corresponding dataframe names\n",
    "files = [\n",
    "    (\"testdata/2.Pain_treatment.csv\", \"dfpain_treatment\"),\n",
    "    (\"testdata/2.Pain_control.csv\", \"dfpain_control\"),\n",
    "    (\"testdata/3.Pain_balanced.csv\", \"dfpain_balanced\")\n",
    "]\n",
    "\n",
    "# Dictionary to store dataframes\n",
    "dataframes = {}\n",
    "\n",
    "# Loop through each file and read the csv into a dataframe, then store it in the dictionary\n",
    "for file, name in files:\n",
    "    dataframes[name] = pd.read_csv(file)\n",
    "    print(f\"{name}: {dataframes[name].shape}\")\n"
   ]
  },
  {
   "cell_type": "code",
   "execution_count": 13,
   "metadata": {},
   "outputs": [],
   "source": [
    "# Define the function to categorize changes of at least 20 points\n",
    "def pain_categorize_significant_change(pain_change):\n",
    "    if pain_change <= -20:\n",
    "        return 'Decreased 20+ points'\n",
    "    elif pain_change >= 20:\n",
    "        return 'Increased 20+ points'\n",
    "    else:\n",
    "        return 'Maintained'  # This now clearly means the pain changed but less than 20 points either way\n",
    "\n",
    "dfpain_treatment['pain_change_category'] = dfpain_treatment['pain_change'].apply(pain_categorize_significant_change)\n",
    "dfpain_control['pain_change_category'] = dfpain_control['pain_change'].apply(pain_categorize_significant_change)\n",
    "dfpain_balanced['pain_change_category'] = dfpain_balanced['pain_change'].apply(pain_categorize_significant_change)\n"
   ]
  },
  {
   "cell_type": "code",
   "execution_count": 14,
   "metadata": {},
   "outputs": [
    {
     "name": "stdout",
     "output_type": "stream",
     "text": [
      "Chi-squared Test for pain_change_category across Treatment and Control groups\n",
      "Chi2: 203.32920636548627, p-value: 7.040829584880354e-45, Degrees of Freedom: 2\n",
      "\n",
      "Expected Frequencies:\n",
      "[[ 443.63896489 2885.36103511]\n",
      " [ 111.67601459  726.32398541]\n",
      " [ 613.68502052 3991.31497948]]\n",
      "\n",
      "Observed Frequencies:\n",
      "Group                 Control  Treatment\n",
      "pain_change_category                    \n",
      "Decreased 20+ points      337       2992\n",
      "Increased 20+ points      241        597\n",
      "Maintained                591       4014\n"
     ]
    }
   ],
   "source": [
    "# Add a new column to identify the group\n",
    "dfpain_treatment['Group'] = 'Treatment'\n",
    "dfpain_control['Group'] = 'Control'\n",
    "\n",
    "# Combine the dataframes\n",
    "dfpain_combined = pd.concat([dfpain_treatment, dfpain_control])\n",
    "\n",
    "# Create a contingency table for pain_change_category across Treatment and Control groups\n",
    "contingency_table = pd.crosstab(dfpain_combined['pain_change_category'], dfpain_combined['Group'])\n",
    "\n",
    "# Perform chi-squared test\n",
    "chi2, p, dof, ex = chi2_contingency(contingency_table)\n",
    "\n",
    "# Display results\n",
    "print(f\"Chi-squared Test for pain_change_category across Treatment and Control groups\")\n",
    "print(f\"Chi2: {chi2}, p-value: {p}, Degrees of Freedom: {dof}\")\n",
    "print(\"\\nExpected Frequencies:\")\n",
    "print(ex)\n",
    "print(\"\\nObserved Frequencies:\")\n",
    "print(contingency_table)\n"
   ]
  },
  {
   "cell_type": "code",
   "execution_count": null,
   "metadata": {},
   "outputs": [],
   "source": []
  }
 ],
 "metadata": {
  "kernelspec": {
   "display_name": "physioai",
   "language": "python",
   "name": "python3"
  },
  "language_info": {
   "codemirror_mode": {
    "name": "ipython",
    "version": 3
   },
   "file_extension": ".py",
   "mimetype": "text/x-python",
   "name": "python",
   "nbconvert_exporter": "python",
   "pygments_lexer": "ipython3",
   "version": "3.10.13"
  }
 },
 "nbformat": 4,
 "nbformat_minor": 2
}
