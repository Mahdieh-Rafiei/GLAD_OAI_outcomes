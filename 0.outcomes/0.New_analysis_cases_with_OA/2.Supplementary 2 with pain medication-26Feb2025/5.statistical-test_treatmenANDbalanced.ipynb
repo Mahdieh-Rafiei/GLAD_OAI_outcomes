{
 "cells": [
  {
   "cell_type": "code",
   "execution_count": 1,
   "metadata": {},
   "outputs": [
    {
     "name": "stderr",
     "output_type": "stream",
     "text": [
      "/Users/mahdie/opt/anaconda3/envs/physioai/lib/python3.10/site-packages/pandas/core/arrays/masked.py:60: UserWarning: Pandas requires version '1.3.6' or newer of 'bottleneck' (version '1.3.5' currently installed).\n",
      "  from pandas.core import (\n"
     ]
    }
   ],
   "source": [
    "import numpy as np\n",
    "import pandas as pd\n",
    "from scipy.stats import chi2_contingency\n",
    "import matplotlib.pyplot as plt\n",
    "from scipy.stats import mannwhitneyu\n",
    "import pandas as pd\n",
    "from statsmodels.stats.proportion import proportions_ztest\n",
    "\n",
    "import matplotlib.pyplot as plt\n",
    "import seaborn as sns\n"
   ]
  },
  {
   "cell_type": "markdown",
   "metadata": {},
   "source": [
    "#### Physical activity"
   ]
  },
  {
   "cell_type": "code",
   "execution_count": 2,
   "metadata": {},
   "outputs": [
    {
     "name": "stdout",
     "output_type": "stream",
     "text": [
      "Physical activity Treatment group: (7603, 10)\n",
      "Physical activity Balanced group:  (1154, 10)\n",
      "Physical activity Control group:  (1154, 10)\n"
     ]
    }
   ],
   "source": [
    "dfPA_treatment = pd.read_csv(\"testdata/2.PA_treatment.csv\")\n",
    "dfPA_balanced = pd.read_csv(\"testdata/3.PA_balanced.csv\").drop(columns='Treatment')\n",
    "dfPA_control = pd.read_csv(\"testdata/2.PA_control.csv\")\n",
    "\n",
    "print(\"Physical activity Treatment group:\", dfPA_treatment.shape)\n",
    "print(\"Physical activity Balanced group: \", dfPA_balanced.shape)\n",
    "print(\"Physical activity Control group: \", dfPA_control.shape)"
   ]
  },
  {
   "cell_type": "code",
   "execution_count": 3,
   "metadata": {},
   "outputs": [
    {
     "name": "stdout",
     "output_type": "stream",
     "text": [
      "Balanced:\n",
      "count    1154.000000\n",
      "mean       56.643847\n",
      "std         7.840486\n",
      "min        45.000000\n",
      "25%        51.000000\n",
      "50%        55.500000\n",
      "75%        61.000000\n",
      "max        79.000000\n",
      "Name: Age, dtype: float64\n",
      "Treatment:\n",
      "count    7603.000000\n",
      "mean       56.692227\n",
      "std         6.818423\n",
      "min        23.000000\n",
      "25%        53.000000\n",
      "50%        57.000000\n",
      "75%        61.000000\n",
      "max        85.000000\n",
      "Name: Age, dtype: float64\n"
     ]
    }
   ],
   "source": [
    "print(\"Balanced:\")\n",
    "print(dfPA_balanced.Age.describe())\n",
    "print(\"Treatment:\")\n",
    "print(dfPA_treatment.Age.describe())"
   ]
  },
  {
   "cell_type": "markdown",
   "metadata": {},
   "source": [
    "##### Create column outcome in categorical:"
   ]
  },
  {
   "cell_type": "code",
   "execution_count": 4,
   "metadata": {},
   "outputs": [],
   "source": [
    "# Define the function to categorize PA_changes\n",
    "def categorize_change(PA_change):\n",
    "    if PA_change > 0:\n",
    "        return 'Increased'\n",
    "    elif PA_change < 0:\n",
    "        return 'Decreased'\n",
    "    else:\n",
    "        return 'Unchanged'\n",
    "\n",
    "# Apply the function to create a new column in df_PA_Balanced_before\n",
    "dfPA_treatment['PA_change_category'] = dfPA_treatment['PA_change'].apply(categorize_change)\n",
    "dfPA_balanced['PA_change_category'] = dfPA_balanced['PA_change'].apply(categorize_change)"
   ]
  },
  {
   "cell_type": "markdown",
   "metadata": {},
   "source": [
    "##### Calculate Chi2:"
   ]
  },
  {
   "cell_type": "code",
   "execution_count": 5,
   "metadata": {},
   "outputs": [
    {
     "name": "stdout",
     "output_type": "stream",
     "text": [
      "Chi-squared Test for PA_change_category across Treatment and Balanced groups\n",
      "Chi2: 8.454830331963484, p-value: 0.014590054719397184, Degrees of Freedom: 2\n",
      "\n",
      "Expected Frequencies:\n",
      "[[ 326.94689962 2154.05310038]\n",
      " [ 470.85097636 3102.14902364]\n",
      " [ 356.20212402 2346.79787598]]\n",
      "\n",
      "Observed Frequencies:\n",
      "Group               Balanced  Treatment\n",
      "PA_change_category                     \n",
      "Decreased                368       2113\n",
      "Increased                442       3131\n",
      "Unchanged                344       2359\n"
     ]
    }
   ],
   "source": [
    "dfPA_treatment['Group'] = 'Treatment'\n",
    "dfPA_balanced['Group'] = 'Balanced'\n",
    "\n",
    "\n",
    "df_combined = pd.concat([dfPA_treatment, dfPA_balanced])\n",
    "\n",
    "# Create a contingency table for PA_change_category across Treatment and Balanced groups\n",
    "contingency_table = pd.crosstab(df_combined['PA_change_category'], df_combined['Group'])\n",
    "\n",
    "# Perform chi-squared test\n",
    "chi2, p, dof, ex = chi2_contingency(contingency_table)\n",
    "\n",
    "print(f\"Chi-squared Test for PA_change_category across Treatment and Balanced groups\")\n",
    "print(f\"Chi2: {chi2}, p-value: {p}, Degrees of Freedom: {dof}\")\n",
    "print(\"\\nExpected Frequencies:\")\n",
    "print(ex)\n",
    "print(\"\\nObserved Frequencies:\")\n",
    "print(contingency_table)\n"
   ]
  },
  {
   "cell_type": "markdown",
   "metadata": {},
   "source": [
    "#### Quality of life"
   ]
  },
  {
   "cell_type": "code",
   "execution_count": 6,
   "metadata": {},
   "outputs": [],
   "source": [
    "dfQ_treatment = pd.read_csv(\"testdata/2.QOL_treatment.csv\")\n",
    "dfQ_control = pd.read_csv(\"testdata/2.QOL_control.csv\")\n",
    "dfQ_balanced = pd.read_csv(\"testdata/3.QOL_balanced.csv\")"
   ]
  },
  {
   "cell_type": "code",
   "execution_count": 7,
   "metadata": {},
   "outputs": [
    {
     "name": "stdout",
     "output_type": "stream",
     "text": [
      "dfQ_treatment: (7603, 10)\n",
      "dfQ_control: (1154, 10)\n",
      "dfQ_balanced: (1154, 11)\n"
     ]
    }
   ],
   "source": [
    "# List of file paths and corresponding dataframe names\n",
    "files = [\n",
    "    (\"testdata/2.QOL_treatment.csv\", \"dfQ_treatment\"),\n",
    "    (\"testdata/2.QOL_control.csv\", \"dfQ_control\"),\n",
    "    (\"testdata/3.QOL_balanced.csv\", \"dfQ_balanced\"),\n",
    "]\n",
    "\n",
    "# Dictionary to store dataframes\n",
    "dataframes = {}\n",
    "\n",
    "# Loop through each file and read the csv into a dataframe, then store it in the dictionary\n",
    "for file, name in files:\n",
    "    dataframes[name] = pd.read_csv(file)\n",
    "    print(f\"{name}: {dataframes[name].shape}\")"
   ]
  },
  {
   "cell_type": "code",
   "execution_count": 8,
   "metadata": {},
   "outputs": [],
   "source": [
    "# Define the function to categorize PA_changes\n",
    "def QOL_categorize_significant_change(QOL_change):\n",
    "    if QOL_change >= 10:\n",
    "        return 'Increased 10+ points'\n",
    "    elif QOL_change <= -10:\n",
    "        return 'Decreased 10+ points'\n",
    "    else:\n",
    "        return 'Maintained'\n",
    "\n",
    "dfQ_treatment['QOL_change_category'] = dfQ_treatment['QOL_change'].apply(QOL_categorize_significant_change)\n",
    "dfQ_control['QOL_change_category'] = dfQ_control['QOL_change'].apply(QOL_categorize_significant_change)\n",
    "dfQ_balanced['QOL_change_category'] = dfQ_balanced['QOL_change'].apply(QOL_categorize_significant_change)"
   ]
  },
  {
   "cell_type": "code",
   "execution_count": 9,
   "metadata": {},
   "outputs": [
    {
     "data": {
      "text/html": [
       "<div>\n",
       "<style scoped>\n",
       "    .dataframe tbody tr th:only-of-type {\n",
       "        vertical-align: middle;\n",
       "    }\n",
       "\n",
       "    .dataframe tbody tr th {\n",
       "        vertical-align: top;\n",
       "    }\n",
       "\n",
       "    .dataframe thead th {\n",
       "        text-align: right;\n",
       "    }\n",
       "</style>\n",
       "<table border=\"1\" class=\"dataframe\">\n",
       "  <thead>\n",
       "    <tr style=\"text-align: right;\">\n",
       "      <th></th>\n",
       "      <th>Age</th>\n",
       "      <th>Gender</th>\n",
       "      <th>BMI</th>\n",
       "      <th>Depression</th>\n",
       "      <th>Employment_status</th>\n",
       "      <th>pain_medication_baseline</th>\n",
       "      <th>Baseline_Physical_Activity</th>\n",
       "      <th>Baseline_Pain</th>\n",
       "      <th>Baseline_Quality_of_life</th>\n",
       "      <th>QOL_change</th>\n",
       "      <th>Treatment</th>\n",
       "      <th>QOL_change_category</th>\n",
       "    </tr>\n",
       "  </thead>\n",
       "  <tbody>\n",
       "    <tr>\n",
       "      <th>0</th>\n",
       "      <td>74.0</td>\n",
       "      <td>1.0</td>\n",
       "      <td>29.6</td>\n",
       "      <td>1.0</td>\n",
       "      <td>1.0</td>\n",
       "      <td>0.0</td>\n",
       "      <td>1.0</td>\n",
       "      <td>70.0</td>\n",
       "      <td>50.00</td>\n",
       "      <td>-6.25</td>\n",
       "      <td>0</td>\n",
       "      <td>Maintained</td>\n",
       "    </tr>\n",
       "    <tr>\n",
       "      <th>1</th>\n",
       "      <td>49.0</td>\n",
       "      <td>2.0</td>\n",
       "      <td>33.8</td>\n",
       "      <td>1.0</td>\n",
       "      <td>1.0</td>\n",
       "      <td>0.0</td>\n",
       "      <td>1.0</td>\n",
       "      <td>60.0</td>\n",
       "      <td>56.25</td>\n",
       "      <td>-18.75</td>\n",
       "      <td>0</td>\n",
       "      <td>Decreased 10+ points</td>\n",
       "    </tr>\n",
       "    <tr>\n",
       "      <th>2</th>\n",
       "      <td>49.0</td>\n",
       "      <td>2.0</td>\n",
       "      <td>33.8</td>\n",
       "      <td>1.0</td>\n",
       "      <td>1.0</td>\n",
       "      <td>0.0</td>\n",
       "      <td>1.0</td>\n",
       "      <td>60.0</td>\n",
       "      <td>56.25</td>\n",
       "      <td>-18.75</td>\n",
       "      <td>0</td>\n",
       "      <td>Decreased 10+ points</td>\n",
       "    </tr>\n",
       "    <tr>\n",
       "      <th>3</th>\n",
       "      <td>49.0</td>\n",
       "      <td>2.0</td>\n",
       "      <td>33.8</td>\n",
       "      <td>1.0</td>\n",
       "      <td>1.0</td>\n",
       "      <td>0.0</td>\n",
       "      <td>1.0</td>\n",
       "      <td>60.0</td>\n",
       "      <td>56.25</td>\n",
       "      <td>-18.75</td>\n",
       "      <td>0</td>\n",
       "      <td>Decreased 10+ points</td>\n",
       "    </tr>\n",
       "    <tr>\n",
       "      <th>4</th>\n",
       "      <td>73.0</td>\n",
       "      <td>2.0</td>\n",
       "      <td>35.2</td>\n",
       "      <td>1.0</td>\n",
       "      <td>2.0</td>\n",
       "      <td>0.0</td>\n",
       "      <td>1.0</td>\n",
       "      <td>100.0</td>\n",
       "      <td>18.75</td>\n",
       "      <td>62.50</td>\n",
       "      <td>0</td>\n",
       "      <td>Increased 10+ points</td>\n",
       "    </tr>\n",
       "    <tr>\n",
       "      <th>...</th>\n",
       "      <td>...</td>\n",
       "      <td>...</td>\n",
       "      <td>...</td>\n",
       "      <td>...</td>\n",
       "      <td>...</td>\n",
       "      <td>...</td>\n",
       "      <td>...</td>\n",
       "      <td>...</td>\n",
       "      <td>...</td>\n",
       "      <td>...</td>\n",
       "      <td>...</td>\n",
       "      <td>...</td>\n",
       "    </tr>\n",
       "    <tr>\n",
       "      <th>1149</th>\n",
       "      <td>56.0</td>\n",
       "      <td>2.0</td>\n",
       "      <td>27.5</td>\n",
       "      <td>1.0</td>\n",
       "      <td>1.0</td>\n",
       "      <td>0.0</td>\n",
       "      <td>10.0</td>\n",
       "      <td>40.0</td>\n",
       "      <td>43.75</td>\n",
       "      <td>12.50</td>\n",
       "      <td>0</td>\n",
       "      <td>Increased 10+ points</td>\n",
       "    </tr>\n",
       "    <tr>\n",
       "      <th>1150</th>\n",
       "      <td>56.0</td>\n",
       "      <td>2.0</td>\n",
       "      <td>27.5</td>\n",
       "      <td>1.0</td>\n",
       "      <td>1.0</td>\n",
       "      <td>0.0</td>\n",
       "      <td>10.0</td>\n",
       "      <td>40.0</td>\n",
       "      <td>43.75</td>\n",
       "      <td>12.50</td>\n",
       "      <td>0</td>\n",
       "      <td>Increased 10+ points</td>\n",
       "    </tr>\n",
       "    <tr>\n",
       "      <th>1151</th>\n",
       "      <td>56.0</td>\n",
       "      <td>2.0</td>\n",
       "      <td>27.5</td>\n",
       "      <td>1.0</td>\n",
       "      <td>1.0</td>\n",
       "      <td>0.0</td>\n",
       "      <td>10.0</td>\n",
       "      <td>40.0</td>\n",
       "      <td>43.75</td>\n",
       "      <td>12.50</td>\n",
       "      <td>0</td>\n",
       "      <td>Increased 10+ points</td>\n",
       "    </tr>\n",
       "    <tr>\n",
       "      <th>1152</th>\n",
       "      <td>53.0</td>\n",
       "      <td>2.0</td>\n",
       "      <td>30.1</td>\n",
       "      <td>1.0</td>\n",
       "      <td>1.0</td>\n",
       "      <td>0.0</td>\n",
       "      <td>10.0</td>\n",
       "      <td>50.0</td>\n",
       "      <td>50.00</td>\n",
       "      <td>6.25</td>\n",
       "      <td>0</td>\n",
       "      <td>Maintained</td>\n",
       "    </tr>\n",
       "    <tr>\n",
       "      <th>1153</th>\n",
       "      <td>53.0</td>\n",
       "      <td>2.0</td>\n",
       "      <td>30.1</td>\n",
       "      <td>1.0</td>\n",
       "      <td>1.0</td>\n",
       "      <td>0.0</td>\n",
       "      <td>10.0</td>\n",
       "      <td>50.0</td>\n",
       "      <td>50.00</td>\n",
       "      <td>6.25</td>\n",
       "      <td>0</td>\n",
       "      <td>Maintained</td>\n",
       "    </tr>\n",
       "  </tbody>\n",
       "</table>\n",
       "<p>1154 rows × 12 columns</p>\n",
       "</div>"
      ],
      "text/plain": [
       "       Age  Gender   BMI  Depression  Employment_status  \\\n",
       "0     74.0     1.0  29.6         1.0                1.0   \n",
       "1     49.0     2.0  33.8         1.0                1.0   \n",
       "2     49.0     2.0  33.8         1.0                1.0   \n",
       "3     49.0     2.0  33.8         1.0                1.0   \n",
       "4     73.0     2.0  35.2         1.0                2.0   \n",
       "...    ...     ...   ...         ...                ...   \n",
       "1149  56.0     2.0  27.5         1.0                1.0   \n",
       "1150  56.0     2.0  27.5         1.0                1.0   \n",
       "1151  56.0     2.0  27.5         1.0                1.0   \n",
       "1152  53.0     2.0  30.1         1.0                1.0   \n",
       "1153  53.0     2.0  30.1         1.0                1.0   \n",
       "\n",
       "      pain_medication_baseline  Baseline_Physical_Activity  Baseline_Pain  \\\n",
       "0                          0.0                         1.0           70.0   \n",
       "1                          0.0                         1.0           60.0   \n",
       "2                          0.0                         1.0           60.0   \n",
       "3                          0.0                         1.0           60.0   \n",
       "4                          0.0                         1.0          100.0   \n",
       "...                        ...                         ...            ...   \n",
       "1149                       0.0                        10.0           40.0   \n",
       "1150                       0.0                        10.0           40.0   \n",
       "1151                       0.0                        10.0           40.0   \n",
       "1152                       0.0                        10.0           50.0   \n",
       "1153                       0.0                        10.0           50.0   \n",
       "\n",
       "      Baseline_Quality_of_life  QOL_change  Treatment   QOL_change_category  \n",
       "0                        50.00       -6.25          0            Maintained  \n",
       "1                        56.25      -18.75          0  Decreased 10+ points  \n",
       "2                        56.25      -18.75          0  Decreased 10+ points  \n",
       "3                        56.25      -18.75          0  Decreased 10+ points  \n",
       "4                        18.75       62.50          0  Increased 10+ points  \n",
       "...                        ...         ...        ...                   ...  \n",
       "1149                     43.75       12.50          0  Increased 10+ points  \n",
       "1150                     43.75       12.50          0  Increased 10+ points  \n",
       "1151                     43.75       12.50          0  Increased 10+ points  \n",
       "1152                     50.00        6.25          0            Maintained  \n",
       "1153                     50.00        6.25          0            Maintained  \n",
       "\n",
       "[1154 rows x 12 columns]"
      ]
     },
     "execution_count": 9,
     "metadata": {},
     "output_type": "execute_result"
    }
   ],
   "source": [
    "dfQ_balanced"
   ]
  },
  {
   "cell_type": "code",
   "execution_count": 10,
   "metadata": {},
   "outputs": [
    {
     "name": "stdout",
     "output_type": "stream",
     "text": [
      "Chi-squared Test for QOL_change_category across Treatment and Balanced groups\n",
      "Chi2: 31.306130631359743, p-value: 1.59206248381333e-07, Degrees of Freedom: 2\n",
      "\n",
      "Expected Frequencies:\n",
      "[[ 141.13669065  929.86330935]\n",
      " [ 546.22930227 3598.77069773]\n",
      " [ 466.63400708 3074.36599292]]\n",
      "\n",
      "Observed Frequencies:\n",
      "Group                 Balanced  Treatment\n",
      "QOL_change_category                      \n",
      "Decreased 10+ points       158        913\n",
      "Increased 10+ points       458       3687\n",
      "Maintained                 538       3003\n"
     ]
    }
   ],
   "source": [
    "# Add a new column to identify the group\n",
    "dfQ_treatment['Group'] = 'Treatment'\n",
    "dfQ_balanced['Group'] = 'Balanced'\n",
    "\n",
    "# Combine the dataframes\n",
    "dfQ_combined = pd.concat([dfQ_treatment, dfQ_balanced])\n",
    "\n",
    "# Create a contingency table for QOL_change_category across Treatment and Balanced groups\n",
    "contingency_table = pd.crosstab(dfQ_combined['QOL_change_category'], dfQ_combined['Group'])\n",
    "\n",
    "# Perform chi-squared test\n",
    "chi2, p, dof, ex = chi2_contingency(contingency_table)\n",
    "\n",
    "# Display results\n",
    "print(f\"Chi-squared Test for QOL_change_category across Treatment and Balanced groups\")\n",
    "print(f\"Chi2: {chi2}, p-value: {p}, Degrees of Freedom: {dof}\")\n",
    "print(\"\\nExpected Frequencies:\")\n",
    "print(ex)\n",
    "print(\"\\nObserved Frequencies:\")\n",
    "print(contingency_table)\n"
   ]
  },
  {
   "cell_type": "markdown",
   "metadata": {},
   "source": [
    "#### Pain"
   ]
  },
  {
   "cell_type": "code",
   "execution_count": 11,
   "metadata": {},
   "outputs": [],
   "source": [
    "dfpain_treatment = pd.read_csv(\"testdata/2.Pain_treatment.csv\")\n",
    "dfpain_control = pd.read_csv(\"testdata/2.Pain_control.csv\")\n",
    "dfpain_balanced = pd.read_csv(\"testdata/3.Pain_balanced.csv\")"
   ]
  },
  {
   "cell_type": "code",
   "execution_count": 12,
   "metadata": {},
   "outputs": [
    {
     "name": "stdout",
     "output_type": "stream",
     "text": [
      "dfpain_treatment: (7603, 10)\n",
      "dfpain_control: (1154, 10)\n",
      "dfpain_balanced: (1154, 11)\n"
     ]
    }
   ],
   "source": [
    "# List of file paths and corresponding dataframe names\n",
    "files = [\n",
    "    (\"testdata/2.Pain_treatment.csv\", \"dfpain_treatment\"),\n",
    "    (\"testdata/2.Pain_control.csv\", \"dfpain_control\"),\n",
    "    (\"testdata/3.Pain_balanced.csv\", \"dfpain_balanced\")\n",
    "]\n",
    "\n",
    "# Dictionary to store dataframes\n",
    "dataframes = {}\n",
    "\n",
    "# Loop through each file and read the csv into a dataframe, then store it in the dictionary\n",
    "for file, name in files:\n",
    "    dataframes[name] = pd.read_csv(file)\n",
    "    print(f\"{name}: {dataframes[name].shape}\")\n"
   ]
  },
  {
   "cell_type": "code",
   "execution_count": 13,
   "metadata": {},
   "outputs": [],
   "source": [
    "# Define the function to categorize changes of at least 20 points\n",
    "def pain_categorize_significant_change(pain_change):\n",
    "    if pain_change <= -20:\n",
    "        return 'Decreased 20+ points'\n",
    "    elif pain_change >= 20:\n",
    "        return 'Increased 20+ points'\n",
    "    else:\n",
    "        return 'Maintained'  # This now clearly means the pain changed but less than 20 points either way\n",
    "\n",
    "dfpain_treatment['pain_change_category'] = dfpain_treatment['pain_change'].apply(pain_categorize_significant_change)\n",
    "dfpain_control['pain_change_category'] = dfpain_control['pain_change'].apply(pain_categorize_significant_change)\n",
    "dfpain_balanced['pain_change_category'] = dfpain_balanced['pain_change'].apply(pain_categorize_significant_change)\n"
   ]
  },
  {
   "cell_type": "code",
   "execution_count": 14,
   "metadata": {},
   "outputs": [
    {
     "name": "stdout",
     "output_type": "stream",
     "text": [
      "Chi-squared Test for pain_change_category across Treatment and Balanced groups\n",
      "Chi2: 280.18615690906887, p-value: 1.4399555111880408e-61, Degrees of Freedom: 2\n",
      "\n",
      "Expected Frequencies:\n",
      "[[ 435.13851776 2866.86148224]\n",
      " [ 113.85817061  750.14182939]\n",
      " [ 605.00331164 3985.99668836]]\n",
      "\n",
      "Observed Frequencies:\n",
      "Group                 Balanced  Treatment\n",
      "pain_change_category                     \n",
      "Decreased 20+ points       310       2992\n",
      "Increased 20+ points       267        597\n",
      "Maintained                 577       4014\n"
     ]
    }
   ],
   "source": [
    "# Add a new column to identify the group\n",
    "dfpain_treatment['Group'] = 'Treatment'\n",
    "dfpain_balanced['Group'] = 'Balanced'\n",
    "\n",
    "# Combine the dataframes\n",
    "dfpain_combined = pd.concat([dfpain_treatment, dfpain_balanced])\n",
    "\n",
    "# Create a contingency table for pain_change_category across Treatment and Balanced groups\n",
    "contingency_table = pd.crosstab(dfpain_combined['pain_change_category'], dfpain_combined['Group'])\n",
    "\n",
    "# Perform chi-squared test\n",
    "chi2, p, dof, ex = chi2_contingency(contingency_table)\n",
    "\n",
    "# Display results\n",
    "print(f\"Chi-squared Test for pain_change_category across Treatment and Balanced groups\")\n",
    "print(f\"Chi2: {chi2}, p-value: {p}, Degrees of Freedom: {dof}\")\n",
    "print(\"\\nExpected Frequencies:\")\n",
    "print(ex)\n",
    "print(\"\\nObserved Frequencies:\")\n",
    "print(contingency_table)\n"
   ]
  },
  {
   "cell_type": "code",
   "execution_count": null,
   "metadata": {},
   "outputs": [],
   "source": []
  },
  {
   "cell_type": "code",
   "execution_count": null,
   "metadata": {},
   "outputs": [],
   "source": []
  },
  {
   "cell_type": "code",
   "execution_count": null,
   "metadata": {},
   "outputs": [],
   "source": []
  },
  {
   "cell_type": "code",
   "execution_count": null,
   "metadata": {},
   "outputs": [],
   "source": []
  }
 ],
 "metadata": {
  "kernelspec": {
   "display_name": "physioai",
   "language": "python",
   "name": "python3"
  },
  "language_info": {
   "codemirror_mode": {
    "name": "ipython",
    "version": 3
   },
   "file_extension": ".py",
   "mimetype": "text/x-python",
   "name": "python",
   "nbconvert_exporter": "python",
   "pygments_lexer": "ipython3",
   "version": "3.10.13"
  }
 },
 "nbformat": 4,
 "nbformat_minor": 2
}
