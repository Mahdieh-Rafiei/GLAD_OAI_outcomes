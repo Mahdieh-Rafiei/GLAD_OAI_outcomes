{
 "cells": [
  {
   "cell_type": "code",
   "execution_count": 49,
   "metadata": {},
   "outputs": [],
   "source": [
    "import pandas as pd\n",
    "import numpy as np\n",
    "import seaborn as sns\n",
    "import matplotlib.pyplot as plt"
   ]
  },
  {
   "cell_type": "code",
   "execution_count": 50,
   "metadata": {},
   "outputs": [
    {
     "name": "stdout",
     "output_type": "stream",
     "text": [
      "(4308, 1817)\n",
      "PASE baseline, number of NaN: 0\n",
      "PASE followup, number of NaN: 0\n"
     ]
    }
   ],
   "source": [
    "df = pd.read_csv(\"../Changes_in_PA/data/OAI/merged_three_OAI.csv\")\n",
    "print(df.shape)\n",
    "\n",
    "print(\"PASE baseline, number of NaN:\", df.V00PASE.isna().sum())\n",
    "print(\"PASE followup, number of NaN:\", df.V01PASE.isna().sum())"
   ]
  },
  {
   "cell_type": "code",
   "execution_count": 51,
   "metadata": {},
   "outputs": [
    {
     "name": "stdout",
     "output_type": "stream",
     "text": [
      "(66215, 1240)\n"
     ]
    }
   ],
   "source": [
    "dfg = pd.read_stata(\"data/GLAD/GladWithRejion_030323_updated.dta\")\n",
    "print(dfg.shape)"
   ]
  },
  {
   "cell_type": "code",
   "execution_count": 52,
   "metadata": {},
   "outputs": [
    {
     "data": {
      "text/plain": [
       "count    4308.000000\n",
       "mean       61.169452\n",
       "std         9.166295\n",
       "min        45.000000\n",
       "25%        53.000000\n",
       "50%        61.000000\n",
       "75%        69.000000\n",
       "max        79.000000\n",
       "Name: V00AGE, dtype: float64"
      ]
     },
     "execution_count": 52,
     "metadata": {},
     "output_type": "execute_result"
    }
   ],
   "source": [
    "df.V00AGE.describe()"
   ]
  },
  {
   "cell_type": "code",
   "execution_count": 53,
   "metadata": {},
   "outputs": [
    {
     "data": {
      "text/plain": [
       "count    66215.000000\n",
       "mean        65.566186\n",
       "std          9.904173\n",
       "min         15.000000\n",
       "25%         59.000000\n",
       "50%         66.000000\n",
       "75%         73.000000\n",
       "max        100.000000\n",
       "Name: age, dtype: float64"
      ]
     },
     "execution_count": 53,
     "metadata": {},
     "output_type": "execute_result"
    }
   ],
   "source": [
    "dfg.age.describe()"
   ]
  },
  {
   "cell_type": "code",
   "execution_count": 54,
   "metadata": {},
   "outputs": [
    {
     "name": "stdout",
     "output_type": "stream",
     "text": [
      "GLAD shape: (30484, 1240)\n",
      "Number of Nan Value in baseline: 0\n",
      "Number of Nan Value in followup: 0\n"
     ]
    }
   ],
   "source": [
    "# Remove NaN value from UCLA in GLAD:\n",
    "dfg = dfg.dropna(subset=['ptb_4145', 'pt12_4145'])\n",
    "print(\"GLAD shape:\",dfg.shape)\n",
    "print(\"Number of Nan Value in baseline:\", dfg.ptb_4145.isna().sum())\n",
    "print(\"Number of Nan Value in followup:\", dfg.pt12_4145.isna().sum())"
   ]
  },
  {
   "cell_type": "code",
   "execution_count": 67,
   "metadata": {},
   "outputs": [
    {
     "data": {
      "text/plain": [
       "count    30484.000000\n",
       "mean        65.393977\n",
       "std          9.101285\n",
       "min         23.000000\n",
       "25%         60.000000\n",
       "50%         66.000000\n",
       "75%         72.000000\n",
       "max         92.000000\n",
       "Name: age, dtype: float64"
      ]
     },
     "execution_count": 67,
     "metadata": {},
     "output_type": "execute_result"
    }
   ],
   "source": [
    "dfg.age.describe()"
   ]
  },
  {
   "cell_type": "code",
   "execution_count": 55,
   "metadata": {},
   "outputs": [
    {
     "data": {
      "text/html": [
       "<div>\n",
       "<style scoped>\n",
       "    .dataframe tbody tr th:only-of-type {\n",
       "        vertical-align: middle;\n",
       "    }\n",
       "\n",
       "    .dataframe tbody tr th {\n",
       "        vertical-align: top;\n",
       "    }\n",
       "\n",
       "    .dataframe thead th {\n",
       "        text-align: right;\n",
       "    }\n",
       "</style>\n",
       "<table border=\"1\" class=\"dataframe\">\n",
       "  <thead>\n",
       "    <tr style=\"text-align: right;\">\n",
       "      <th></th>\n",
       "      <th>ID</th>\n",
       "      <th>V00BLDCOLL</th>\n",
       "      <th>V00BLDHRS1</th>\n",
       "      <th>V00BLDHRS2</th>\n",
       "      <th>V00BLDRAW1</th>\n",
       "      <th>V00BLDRAW2</th>\n",
       "      <th>V00BLSURD1</th>\n",
       "      <th>V00BLSURD2</th>\n",
       "      <th>V00CITRATE</th>\n",
       "      <th>V00EDTA</th>\n",
       "      <th>...</th>\n",
       "      <th>V08IMAGESF</th>\n",
       "      <th>V08IMAGESG</th>\n",
       "      <th>V10IMAGESA</th>\n",
       "      <th>V10IMAGESB</th>\n",
       "      <th>V10IMAGESC</th>\n",
       "      <th>V10IMAGESD</th>\n",
       "      <th>V10IMAGESE</th>\n",
       "      <th>V10IMAGESF</th>\n",
       "      <th>V10IMAGESG</th>\n",
       "      <th>womac_knee_pain</th>\n",
       "    </tr>\n",
       "  </thead>\n",
       "  <tbody>\n",
       "    <tr>\n",
       "      <th>0</th>\n",
       "      <td>b'9000099'</td>\n",
       "      <td>1.0</td>\n",
       "      <td>35400.0</td>\n",
       "      <td>NaN</td>\n",
       "      <td>1.0</td>\n",
       "      <td>NaN</td>\n",
       "      <td>NaN</td>\n",
       "      <td>NaN</td>\n",
       "      <td>1.0</td>\n",
       "      <td>1.0</td>\n",
       "      <td>...</td>\n",
       "      <td>0.0</td>\n",
       "      <td>1.0</td>\n",
       "      <td>0.0</td>\n",
       "      <td>0.0</td>\n",
       "      <td>0.0</td>\n",
       "      <td>0.0</td>\n",
       "      <td>1.0</td>\n",
       "      <td>0.0</td>\n",
       "      <td>1.0</td>\n",
       "      <td>14.0000</td>\n",
       "    </tr>\n",
       "    <tr>\n",
       "      <th>1</th>\n",
       "      <td>b'9000296'</td>\n",
       "      <td>1.0</td>\n",
       "      <td>30780.0</td>\n",
       "      <td>NaN</td>\n",
       "      <td>1.0</td>\n",
       "      <td>NaN</td>\n",
       "      <td>NaN</td>\n",
       "      <td>NaN</td>\n",
       "      <td>1.0</td>\n",
       "      <td>1.0</td>\n",
       "      <td>...</td>\n",
       "      <td>0.0</td>\n",
       "      <td>0.0</td>\n",
       "      <td>3.0</td>\n",
       "      <td>0.0</td>\n",
       "      <td>1.0</td>\n",
       "      <td>0.0</td>\n",
       "      <td>0.0</td>\n",
       "      <td>0.0</td>\n",
       "      <td>0.0</td>\n",
       "      <td>0.0000</td>\n",
       "    </tr>\n",
       "    <tr>\n",
       "      <th>2</th>\n",
       "      <td>b'9000622'</td>\n",
       "      <td>1.0</td>\n",
       "      <td>33900.0</td>\n",
       "      <td>NaN</td>\n",
       "      <td>1.0</td>\n",
       "      <td>NaN</td>\n",
       "      <td>NaN</td>\n",
       "      <td>NaN</td>\n",
       "      <td>1.0</td>\n",
       "      <td>1.0</td>\n",
       "      <td>...</td>\n",
       "      <td>0.0</td>\n",
       "      <td>0.0</td>\n",
       "      <td>0.0</td>\n",
       "      <td>0.0</td>\n",
       "      <td>0.0</td>\n",
       "      <td>0.0</td>\n",
       "      <td>NaN</td>\n",
       "      <td>0.0</td>\n",
       "      <td>0.0</td>\n",
       "      <td>20.8750</td>\n",
       "    </tr>\n",
       "    <tr>\n",
       "      <th>3</th>\n",
       "      <td>b'9000798'</td>\n",
       "      <td>1.0</td>\n",
       "      <td>26400.0</td>\n",
       "      <td>NaN</td>\n",
       "      <td>1.0</td>\n",
       "      <td>NaN</td>\n",
       "      <td>NaN</td>\n",
       "      <td>NaN</td>\n",
       "      <td>1.0</td>\n",
       "      <td>1.0</td>\n",
       "      <td>...</td>\n",
       "      <td>0.0</td>\n",
       "      <td>0.0</td>\n",
       "      <td>0.0</td>\n",
       "      <td>0.0</td>\n",
       "      <td>1.0</td>\n",
       "      <td>1.0</td>\n",
       "      <td>0.0</td>\n",
       "      <td>0.0</td>\n",
       "      <td>0.0</td>\n",
       "      <td>30.0000</td>\n",
       "    </tr>\n",
       "    <tr>\n",
       "      <th>4</th>\n",
       "      <td>b'9001104'</td>\n",
       "      <td>1.0</td>\n",
       "      <td>35100.0</td>\n",
       "      <td>NaN</td>\n",
       "      <td>1.0</td>\n",
       "      <td>NaN</td>\n",
       "      <td>NaN</td>\n",
       "      <td>NaN</td>\n",
       "      <td>1.0</td>\n",
       "      <td>1.0</td>\n",
       "      <td>...</td>\n",
       "      <td>0.0</td>\n",
       "      <td>0.0</td>\n",
       "      <td>0.0</td>\n",
       "      <td>0.0</td>\n",
       "      <td>0.0</td>\n",
       "      <td>0.0</td>\n",
       "      <td>NaN</td>\n",
       "      <td>0.0</td>\n",
       "      <td>0.0</td>\n",
       "      <td>33.0000</td>\n",
       "    </tr>\n",
       "    <tr>\n",
       "      <th>...</th>\n",
       "      <td>...</td>\n",
       "      <td>...</td>\n",
       "      <td>...</td>\n",
       "      <td>...</td>\n",
       "      <td>...</td>\n",
       "      <td>...</td>\n",
       "      <td>...</td>\n",
       "      <td>...</td>\n",
       "      <td>...</td>\n",
       "      <td>...</td>\n",
       "      <td>...</td>\n",
       "      <td>...</td>\n",
       "      <td>...</td>\n",
       "      <td>...</td>\n",
       "      <td>...</td>\n",
       "      <td>...</td>\n",
       "      <td>...</td>\n",
       "      <td>...</td>\n",
       "      <td>...</td>\n",
       "      <td>...</td>\n",
       "      <td>...</td>\n",
       "    </tr>\n",
       "    <tr>\n",
       "      <th>4303</th>\n",
       "      <td>b'9999295'</td>\n",
       "      <td>2.0</td>\n",
       "      <td>NaN</td>\n",
       "      <td>28800.0</td>\n",
       "      <td>0.0</td>\n",
       "      <td>1.0</td>\n",
       "      <td>NaN</td>\n",
       "      <td>NaN</td>\n",
       "      <td>2.0</td>\n",
       "      <td>0.0</td>\n",
       "      <td>...</td>\n",
       "      <td>0.0</td>\n",
       "      <td>0.0</td>\n",
       "      <td>0.0</td>\n",
       "      <td>0.0</td>\n",
       "      <td>1.0</td>\n",
       "      <td>0.0</td>\n",
       "      <td>0.0</td>\n",
       "      <td>0.0</td>\n",
       "      <td>0.0</td>\n",
       "      <td>6.0000</td>\n",
       "    </tr>\n",
       "    <tr>\n",
       "      <th>4304</th>\n",
       "      <td>b'9999365'</td>\n",
       "      <td>1.0</td>\n",
       "      <td>27600.0</td>\n",
       "      <td>NaN</td>\n",
       "      <td>1.0</td>\n",
       "      <td>NaN</td>\n",
       "      <td>NaN</td>\n",
       "      <td>NaN</td>\n",
       "      <td>1.0</td>\n",
       "      <td>1.0</td>\n",
       "      <td>...</td>\n",
       "      <td>0.0</td>\n",
       "      <td>0.0</td>\n",
       "      <td>0.0</td>\n",
       "      <td>0.0</td>\n",
       "      <td>1.0</td>\n",
       "      <td>0.0</td>\n",
       "      <td>0.0</td>\n",
       "      <td>0.0</td>\n",
       "      <td>0.0</td>\n",
       "      <td>27.0000</td>\n",
       "    </tr>\n",
       "    <tr>\n",
       "      <th>4305</th>\n",
       "      <td>b'9999862'</td>\n",
       "      <td>1.0</td>\n",
       "      <td>30600.0</td>\n",
       "      <td>NaN</td>\n",
       "      <td>1.0</td>\n",
       "      <td>NaN</td>\n",
       "      <td>NaN</td>\n",
       "      <td>NaN</td>\n",
       "      <td>1.0</td>\n",
       "      <td>1.0</td>\n",
       "      <td>...</td>\n",
       "      <td>0.0</td>\n",
       "      <td>0.0</td>\n",
       "      <td>0.0</td>\n",
       "      <td>0.0</td>\n",
       "      <td>0.0</td>\n",
       "      <td>0.0</td>\n",
       "      <td>1.0</td>\n",
       "      <td>0.0</td>\n",
       "      <td>0.0</td>\n",
       "      <td>0.0000</td>\n",
       "    </tr>\n",
       "    <tr>\n",
       "      <th>4306</th>\n",
       "      <td>b'9999865'</td>\n",
       "      <td>1.0</td>\n",
       "      <td>36600.0</td>\n",
       "      <td>NaN</td>\n",
       "      <td>1.0</td>\n",
       "      <td>NaN</td>\n",
       "      <td>NaN</td>\n",
       "      <td>NaN</td>\n",
       "      <td>1.0</td>\n",
       "      <td>1.0</td>\n",
       "      <td>...</td>\n",
       "      <td>0.0</td>\n",
       "      <td>0.0</td>\n",
       "      <td>0.0</td>\n",
       "      <td>0.0</td>\n",
       "      <td>1.0</td>\n",
       "      <td>0.0</td>\n",
       "      <td>0.0</td>\n",
       "      <td>0.0</td>\n",
       "      <td>0.0</td>\n",
       "      <td>0.0000</td>\n",
       "    </tr>\n",
       "    <tr>\n",
       "      <th>4307</th>\n",
       "      <td>b'9999878'</td>\n",
       "      <td>1.0</td>\n",
       "      <td>27900.0</td>\n",
       "      <td>NaN</td>\n",
       "      <td>1.0</td>\n",
       "      <td>NaN</td>\n",
       "      <td>NaN</td>\n",
       "      <td>NaN</td>\n",
       "      <td>1.0</td>\n",
       "      <td>1.0</td>\n",
       "      <td>...</td>\n",
       "      <td>0.0</td>\n",
       "      <td>0.0</td>\n",
       "      <td>0.0</td>\n",
       "      <td>0.0</td>\n",
       "      <td>1.0</td>\n",
       "      <td>0.0</td>\n",
       "      <td>0.0</td>\n",
       "      <td>0.0</td>\n",
       "      <td>0.0</td>\n",
       "      <td>4.1875</td>\n",
       "    </tr>\n",
       "  </tbody>\n",
       "</table>\n",
       "<p>4308 rows × 1818 columns</p>\n",
       "</div>"
      ],
      "text/plain": [
       "              ID  V00BLDCOLL  V00BLDHRS1  V00BLDHRS2  V00BLDRAW1  V00BLDRAW2  \\\n",
       "0     b'9000099'         1.0     35400.0         NaN         1.0         NaN   \n",
       "1     b'9000296'         1.0     30780.0         NaN         1.0         NaN   \n",
       "2     b'9000622'         1.0     33900.0         NaN         1.0         NaN   \n",
       "3     b'9000798'         1.0     26400.0         NaN         1.0         NaN   \n",
       "4     b'9001104'         1.0     35100.0         NaN         1.0         NaN   \n",
       "...          ...         ...         ...         ...         ...         ...   \n",
       "4303  b'9999295'         2.0         NaN     28800.0         0.0         1.0   \n",
       "4304  b'9999365'         1.0     27600.0         NaN         1.0         NaN   \n",
       "4305  b'9999862'         1.0     30600.0         NaN         1.0         NaN   \n",
       "4306  b'9999865'         1.0     36600.0         NaN         1.0         NaN   \n",
       "4307  b'9999878'         1.0     27900.0         NaN         1.0         NaN   \n",
       "\n",
       "      V00BLSURD1  V00BLSURD2  V00CITRATE  V00EDTA  ...  V08IMAGESF  \\\n",
       "0            NaN         NaN         1.0      1.0  ...         0.0   \n",
       "1            NaN         NaN         1.0      1.0  ...         0.0   \n",
       "2            NaN         NaN         1.0      1.0  ...         0.0   \n",
       "3            NaN         NaN         1.0      1.0  ...         0.0   \n",
       "4            NaN         NaN         1.0      1.0  ...         0.0   \n",
       "...          ...         ...         ...      ...  ...         ...   \n",
       "4303         NaN         NaN         2.0      0.0  ...         0.0   \n",
       "4304         NaN         NaN         1.0      1.0  ...         0.0   \n",
       "4305         NaN         NaN         1.0      1.0  ...         0.0   \n",
       "4306         NaN         NaN         1.0      1.0  ...         0.0   \n",
       "4307         NaN         NaN         1.0      1.0  ...         0.0   \n",
       "\n",
       "      V08IMAGESG  V10IMAGESA  V10IMAGESB  V10IMAGESC  V10IMAGESD  V10IMAGESE  \\\n",
       "0            1.0         0.0         0.0         0.0         0.0         1.0   \n",
       "1            0.0         3.0         0.0         1.0         0.0         0.0   \n",
       "2            0.0         0.0         0.0         0.0         0.0         NaN   \n",
       "3            0.0         0.0         0.0         1.0         1.0         0.0   \n",
       "4            0.0         0.0         0.0         0.0         0.0         NaN   \n",
       "...          ...         ...         ...         ...         ...         ...   \n",
       "4303         0.0         0.0         0.0         1.0         0.0         0.0   \n",
       "4304         0.0         0.0         0.0         1.0         0.0         0.0   \n",
       "4305         0.0         0.0         0.0         0.0         0.0         1.0   \n",
       "4306         0.0         0.0         0.0         1.0         0.0         0.0   \n",
       "4307         0.0         0.0         0.0         1.0         0.0         0.0   \n",
       "\n",
       "      V10IMAGESF  V10IMAGESG  womac_knee_pain  \n",
       "0            0.0         1.0          14.0000  \n",
       "1            0.0         0.0           0.0000  \n",
       "2            0.0         0.0          20.8750  \n",
       "3            0.0         0.0          30.0000  \n",
       "4            0.0         0.0          33.0000  \n",
       "...          ...         ...              ...  \n",
       "4303         0.0         0.0           6.0000  \n",
       "4304         0.0         0.0          27.0000  \n",
       "4305         0.0         0.0           0.0000  \n",
       "4306         0.0         0.0           0.0000  \n",
       "4307         0.0         0.0           4.1875  \n",
       "\n",
       "[4308 rows x 1818 columns]"
      ]
     },
     "execution_count": 55,
     "metadata": {},
     "output_type": "execute_result"
    }
   ],
   "source": [
    "########### create new variable of knee pain (left knee) knee pain (right knee) in OAI to compare with VAS in GLAD\n",
    "df['womac_knee_pain'] = np.where(df['V00WOMTSL'] > df['V00WOMTSR'], df['V00WOMTSL'], df['V00WOMTSR'])\n",
    "\n",
    "df"
   ]
  },
  {
   "cell_type": "code",
   "execution_count": 56,
   "metadata": {},
   "outputs": [],
   "source": [
    "############# Create new variable for Employment status in OAI\n",
    "# Values we are interested in OAI:\n",
    "valid_values = [1, 3, 4]\n",
    "# 1: Works for pay \n",
    "# 3: Not working in part due to health \n",
    "# 4: Not working other reasons\n",
    "\n",
    "# Create a new column 'employment_status' with the filtered values from 'V00CEMPLOY'\n",
    "# We use .where() to assign NaN or other values to cases where 'V00CEMPLOY' is not in the list of valid values\n",
    "df['mapped_employment_status'] = df['V00CEMPLOY'].where(df['V00CEMPLOY'].isin(valid_values))"
   ]
  },
  {
   "cell_type": "code",
   "execution_count": 57,
   "metadata": {},
   "outputs": [
    {
     "name": "stderr",
     "output_type": "stream",
     "text": [
      "/var/folders/rn/9h9wnd_x13930h39r4t9tt_w0000gr/T/ipykernel_24037/1500982184.py:10: PerformanceWarning: DataFrame is highly fragmented.  This is usually the result of calling `frame.insert` many times, which has poor performance.  Consider joining all columns at once using pd.concat(axis=1) instead. To get a de-fragmented frame, use `newframe = frame.copy()`\n",
      "  dfg['mapped_employment_status'] = dfg['ptb_3777'].where(dfg['ptb_3777'].isin(valid_values))\n"
     ]
    }
   ],
   "source": [
    "############# Create new variable for Employment status in GLAD\n",
    "# Values we are interested in GLAD:\n",
    "valid_values = [1, 5, 2]\n",
    "# 1 Employed/student\n",
    "# 5 Unemployed\n",
    "# 2 On sick leave full time\n",
    "\n",
    "# Create a new column 'employment_status' with the filtered values from 'V00CEMPLOY'\n",
    "# We use .where() to assign NaN or other values to cases where 'V00CEMPLOY' is not in the list of valid values\n",
    "dfg['mapped_employment_status'] = dfg['ptb_3777'].where(dfg['ptb_3777'].isin(valid_values))\n"
   ]
  },
  {
   "cell_type": "code",
   "execution_count": 58,
   "metadata": {},
   "outputs": [
    {
     "name": "stdout",
     "output_type": "stream",
     "text": [
      "Index(['ID', 'V00BLDCOLL', 'V00BLDHRS1', 'V00BLDHRS2', 'V00BLDRAW1',\n",
      "       'V00BLDRAW2', 'V00BLSURD1', 'V00BLSURD2', 'V00CITRATE', 'V00EDTA',\n",
      "       ...\n",
      "       'V10IMAGESB', 'V10IMAGESC', 'V10IMAGESD', 'V10IMAGESE', 'V10IMAGESF',\n",
      "       'V10IMAGESG', 'mapped_employment_status', 'V00WOMTSL', 'V00WOMTSR',\n",
      "       'womac_knee_pain'],\n",
      "      dtype='object', length=1819)\n"
     ]
    }
   ],
   "source": [
    "######### Move some columns to the end ############\n",
    "# Get a list of all columns except the ones we want to move to the end\n",
    "columns = [col for col in df.columns if col not in ['V00WOMTSL', 'V00WOMTSR', 'womac_knee_pain']]\n",
    "\n",
    "# Append the specific columns to the end of the list\n",
    "columns.extend(['V00WOMTSL', 'V00WOMTSR', 'womac_knee_pain'])\n",
    "\n",
    "# Reorder the DataFrame based on the new columns order\n",
    "df = df[columns]\n",
    "\n",
    "# Verify the new order of columns (You can comment this out in your final script)\n",
    "print(df.columns)"
   ]
  },
  {
   "cell_type": "code",
   "execution_count": 59,
   "metadata": {},
   "outputs": [
    {
     "name": "stderr",
     "output_type": "stream",
     "text": [
      "/var/folders/rn/9h9wnd_x13930h39r4t9tt_w0000gr/T/ipykernel_24037/1305917622.py:14: SettingWithCopyWarning: \n",
      "A value is trying to be set on a copy of a slice from a DataFrame.\n",
      "Try using .loc[row_indexer,col_indexer] = value instead\n",
      "\n",
      "See the caveats in the documentation: https://pandas.pydata.org/pandas-docs/stable/user_guide/indexing.html#returning-a-view-versus-a-copy\n",
      "  df['mapped_education'] = df['V00EDCV'].map(us_education_map)\n",
      "/var/folders/rn/9h9wnd_x13930h39r4t9tt_w0000gr/T/ipykernel_24037/1305917622.py:26: PerformanceWarning: DataFrame is highly fragmented.  This is usually the result of calling `frame.insert` many times, which has poor performance.  Consider joining all columns at once using pd.concat(axis=1) instead. To get a de-fragmented frame, use `newframe = frame.copy()`\n",
      "  dfg['mapped_education'] = dfg['ptb_10226'].map(denmark_education_map)\n"
     ]
    }
   ],
   "source": [
    "######### Educational status ############\n",
    "\n",
    "\n",
    "############### Map for OAI educational system in df\n",
    "us_education_map = {\n",
    "    1: 1,  # High school graduate\n",
    "    2: 2,  # Some college\n",
    "    3: 3,  # College graduate\n",
    "    4: 3,  # Some graduate school (assuming less than a full degree)\n",
    "    5: 4   # Graduate degree\n",
    "}\n",
    "\n",
    "# Apply mapping in df\n",
    "df['mapped_education'] = df['V00EDCV'].map(us_education_map)\n",
    "\n",
    "############# Map for GLA:D educational system in dfg\n",
    "denmark_education_map = {\n",
    "    1: 0,  # Primary school\n",
    "    2: 1,  # Secondary school\n",
    "    3: 2,  # Short-term education\n",
    "    4: 3,  # Middle-term education\n",
    "    5: 4   # Long-term education\n",
    "}\n",
    "\n",
    "# Apply mapping in dfg\n",
    "dfg['mapped_education'] = dfg['ptb_10226'].map(denmark_education_map)\n"
   ]
  },
  {
   "cell_type": "code",
   "execution_count": 60,
   "metadata": {},
   "outputs": [
    {
     "name": "stdout",
     "output_type": "stream",
     "text": [
      "OAI shape: (4308, 9)\n",
      "GLAD shape: (30484, 9)\n"
     ]
    }
   ],
   "source": [
    "# create new dataframe with selected vriables in OAI and GLAD\n",
    "df_oai = df[[\"V00AGE\", \"P02SEX\", \"P01BMI\", \"mapped_education\", \"V00SMKNOW\", \"mapped_employment_status\", \"womac_knee_pain\", \"V00HRTAT\", \"V00KOOSQOL\"]]\n",
    "df_glad = dfg[[\"age\", \"gender\", \"fysb_BMI\", \"mapped_education\", \"ptb_13118\", \"mapped_employment_status\", \"ptb_3764\", \"ptb_comorbidities_8\", \"ptb_koos_qol_score\"]]\n",
    "print(\"OAI shape:\", df_oai.shape)\n",
    "print(\"GLAD shape:\", df_glad.shape)"
   ]
  },
  {
   "cell_type": "code",
   "execution_count": 61,
   "metadata": {},
   "outputs": [
    {
     "name": "stdout",
     "output_type": "stream",
     "text": [
      "OAI columns:\n",
      "V00AGE                         0\n",
      "P02SEX                         0\n",
      "P01BMI                         4\n",
      "mapped_education             156\n",
      "V00SMKNOW                   2326\n",
      "mapped_employment_status      68\n",
      "womac_knee_pain               18\n",
      "V00HRTAT                      95\n",
      "V00KOOSQOL                     1\n",
      "dtype: int64\n",
      "----------------------------------\n",
      "GLAD columns:\n",
      "age                             0\n",
      "gender                          0\n",
      "fysb_BMI                      133\n",
      "mapped_education             4628\n",
      "ptb_13118                     301\n",
      "mapped_employment_status    20089\n",
      "ptb_3764                       34\n",
      "ptb_comorbidities_8         27807\n",
      "ptb_koos_qol_score           8365\n",
      "dtype: int64\n"
     ]
    }
   ],
   "source": [
    "# number of missing values in OAI  and  GLAD after creating new variables and new dataframe\n",
    "print(\"OAI columns:\")\n",
    "print(df_oai.isna().sum())\n",
    "print(\"----------------------------------\")\n",
    "print(\"GLAD columns:\")\n",
    "print(df_glad.isna().sum())"
   ]
  },
  {
   "cell_type": "code",
   "execution_count": 62,
   "metadata": {},
   "outputs": [
    {
     "name": "stdout",
     "output_type": "stream",
     "text": [
      "oai shape after remove nan: (1840, 9)\n",
      "glad shape after remove nan: (0, 9)\n"
     ]
    },
    {
     "name": "stderr",
     "output_type": "stream",
     "text": [
      "/var/folders/rn/9h9wnd_x13930h39r4t9tt_w0000gr/T/ipykernel_24037/3484485005.py:2: SettingWithCopyWarning: \n",
      "A value is trying to be set on a copy of a slice from a DataFrame\n",
      "\n",
      "See the caveats in the documentation: https://pandas.pydata.org/pandas-docs/stable/user_guide/indexing.html#returning-a-view-versus-a-copy\n",
      "  df_oai.dropna(inplace=True)\n",
      "/var/folders/rn/9h9wnd_x13930h39r4t9tt_w0000gr/T/ipykernel_24037/3484485005.py:5: SettingWithCopyWarning: \n",
      "A value is trying to be set on a copy of a slice from a DataFrame\n",
      "\n",
      "See the caveats in the documentation: https://pandas.pydata.org/pandas-docs/stable/user_guide/indexing.html#returning-a-view-versus-a-copy\n",
      "  df_glad.dropna(inplace=True)\n"
     ]
    }
   ],
   "source": [
    "# Remove nan value from both dataframe\n",
    "df_oai.dropna(inplace=True)\n",
    "print(\"oai shape after remove nan:\", df_oai.shape)\n",
    "\n",
    "df_glad.dropna(inplace=True)\n",
    "print(\"glad shape after remove nan:\", df_glad.shape)"
   ]
  },
  {
   "cell_type": "code",
   "execution_count": null,
   "metadata": {},
   "outputs": [],
   "source": []
  },
  {
   "cell_type": "code",
   "execution_count": 63,
   "metadata": {},
   "outputs": [
    {
     "data": {
      "text/html": [
       "<div>\n",
       "<style scoped>\n",
       "    .dataframe tbody tr th:only-of-type {\n",
       "        vertical-align: middle;\n",
       "    }\n",
       "\n",
       "    .dataframe tbody tr th {\n",
       "        vertical-align: top;\n",
       "    }\n",
       "\n",
       "    .dataframe thead th {\n",
       "        text-align: right;\n",
       "    }\n",
       "</style>\n",
       "<table border=\"1\" class=\"dataframe\">\n",
       "  <thead>\n",
       "    <tr style=\"text-align: right;\">\n",
       "      <th></th>\n",
       "      <th>V00AGE</th>\n",
       "      <th>P02SEX</th>\n",
       "      <th>P01BMI</th>\n",
       "      <th>mapped_education</th>\n",
       "      <th>V00SMKNOW</th>\n",
       "      <th>mapped_employment_status</th>\n",
       "      <th>womac_knee_pain</th>\n",
       "      <th>V00HRTAT</th>\n",
       "      <th>V00KOOSQOL</th>\n",
       "    </tr>\n",
       "  </thead>\n",
       "  <tbody>\n",
       "    <tr>\n",
       "      <th>1</th>\n",
       "      <td>69.0</td>\n",
       "      <td>1.0</td>\n",
       "      <td>29.8</td>\n",
       "      <td>2.0</td>\n",
       "      <td>0.0</td>\n",
       "      <td>1.0</td>\n",
       "      <td>0.000</td>\n",
       "      <td>0.0</td>\n",
       "      <td>100.00</td>\n",
       "    </tr>\n",
       "    <tr>\n",
       "      <th>2</th>\n",
       "      <td>71.0</td>\n",
       "      <td>2.0</td>\n",
       "      <td>22.7</td>\n",
       "      <td>1.0</td>\n",
       "      <td>0.0</td>\n",
       "      <td>4.0</td>\n",
       "      <td>20.875</td>\n",
       "      <td>0.0</td>\n",
       "      <td>50.00</td>\n",
       "    </tr>\n",
       "    <tr>\n",
       "      <th>3</th>\n",
       "      <td>56.0</td>\n",
       "      <td>1.0</td>\n",
       "      <td>32.4</td>\n",
       "      <td>2.0</td>\n",
       "      <td>0.0</td>\n",
       "      <td>1.0</td>\n",
       "      <td>30.000</td>\n",
       "      <td>0.0</td>\n",
       "      <td>43.75</td>\n",
       "    </tr>\n",
       "    <tr>\n",
       "      <th>8</th>\n",
       "      <td>61.0</td>\n",
       "      <td>1.0</td>\n",
       "      <td>36.5</td>\n",
       "      <td>2.0</td>\n",
       "      <td>0.0</td>\n",
       "      <td>4.0</td>\n",
       "      <td>57.000</td>\n",
       "      <td>0.0</td>\n",
       "      <td>43.75</td>\n",
       "    </tr>\n",
       "    <tr>\n",
       "      <th>9</th>\n",
       "      <td>76.0</td>\n",
       "      <td>1.0</td>\n",
       "      <td>25.1</td>\n",
       "      <td>4.0</td>\n",
       "      <td>0.0</td>\n",
       "      <td>4.0</td>\n",
       "      <td>10.000</td>\n",
       "      <td>0.0</td>\n",
       "      <td>75.00</td>\n",
       "    </tr>\n",
       "    <tr>\n",
       "      <th>...</th>\n",
       "      <td>...</td>\n",
       "      <td>...</td>\n",
       "      <td>...</td>\n",
       "      <td>...</td>\n",
       "      <td>...</td>\n",
       "      <td>...</td>\n",
       "      <td>...</td>\n",
       "      <td>...</td>\n",
       "      <td>...</td>\n",
       "    </tr>\n",
       "    <tr>\n",
       "      <th>4294</th>\n",
       "      <td>59.0</td>\n",
       "      <td>2.0</td>\n",
       "      <td>24.9</td>\n",
       "      <td>4.0</td>\n",
       "      <td>0.0</td>\n",
       "      <td>1.0</td>\n",
       "      <td>0.000</td>\n",
       "      <td>0.0</td>\n",
       "      <td>87.50</td>\n",
       "    </tr>\n",
       "    <tr>\n",
       "      <th>4295</th>\n",
       "      <td>49.0</td>\n",
       "      <td>2.0</td>\n",
       "      <td>33.9</td>\n",
       "      <td>1.0</td>\n",
       "      <td>0.0</td>\n",
       "      <td>1.0</td>\n",
       "      <td>7.000</td>\n",
       "      <td>0.0</td>\n",
       "      <td>81.25</td>\n",
       "    </tr>\n",
       "    <tr>\n",
       "      <th>4297</th>\n",
       "      <td>69.0</td>\n",
       "      <td>2.0</td>\n",
       "      <td>32.6</td>\n",
       "      <td>4.0</td>\n",
       "      <td>1.0</td>\n",
       "      <td>4.0</td>\n",
       "      <td>2.000</td>\n",
       "      <td>0.0</td>\n",
       "      <td>62.50</td>\n",
       "    </tr>\n",
       "    <tr>\n",
       "      <th>4302</th>\n",
       "      <td>72.0</td>\n",
       "      <td>2.0</td>\n",
       "      <td>19.5</td>\n",
       "      <td>4.0</td>\n",
       "      <td>0.0</td>\n",
       "      <td>4.0</td>\n",
       "      <td>7.000</td>\n",
       "      <td>0.0</td>\n",
       "      <td>87.50</td>\n",
       "    </tr>\n",
       "    <tr>\n",
       "      <th>4304</th>\n",
       "      <td>56.0</td>\n",
       "      <td>1.0</td>\n",
       "      <td>30.3</td>\n",
       "      <td>1.0</td>\n",
       "      <td>0.0</td>\n",
       "      <td>1.0</td>\n",
       "      <td>27.000</td>\n",
       "      <td>0.0</td>\n",
       "      <td>18.75</td>\n",
       "    </tr>\n",
       "  </tbody>\n",
       "</table>\n",
       "<p>1840 rows × 9 columns</p>\n",
       "</div>"
      ],
      "text/plain": [
       "      V00AGE  P02SEX  P01BMI  mapped_education  V00SMKNOW  \\\n",
       "1       69.0     1.0    29.8               2.0        0.0   \n",
       "2       71.0     2.0    22.7               1.0        0.0   \n",
       "3       56.0     1.0    32.4               2.0        0.0   \n",
       "8       61.0     1.0    36.5               2.0        0.0   \n",
       "9       76.0     1.0    25.1               4.0        0.0   \n",
       "...      ...     ...     ...               ...        ...   \n",
       "4294    59.0     2.0    24.9               4.0        0.0   \n",
       "4295    49.0     2.0    33.9               1.0        0.0   \n",
       "4297    69.0     2.0    32.6               4.0        1.0   \n",
       "4302    72.0     2.0    19.5               4.0        0.0   \n",
       "4304    56.0     1.0    30.3               1.0        0.0   \n",
       "\n",
       "      mapped_employment_status  womac_knee_pain  V00HRTAT  V00KOOSQOL  \n",
       "1                          1.0            0.000       0.0      100.00  \n",
       "2                          4.0           20.875       0.0       50.00  \n",
       "3                          1.0           30.000       0.0       43.75  \n",
       "8                          4.0           57.000       0.0       43.75  \n",
       "9                          4.0           10.000       0.0       75.00  \n",
       "...                        ...              ...       ...         ...  \n",
       "4294                       1.0            0.000       0.0       87.50  \n",
       "4295                       1.0            7.000       0.0       81.25  \n",
       "4297                       4.0            2.000       0.0       62.50  \n",
       "4302                       4.0            7.000       0.0       87.50  \n",
       "4304                       1.0           27.000       0.0       18.75  \n",
       "\n",
       "[1840 rows x 9 columns]"
      ]
     },
     "execution_count": 63,
     "metadata": {},
     "output_type": "execute_result"
    }
   ],
   "source": [
    "df_oai"
   ]
  },
  {
   "cell_type": "code",
   "execution_count": 64,
   "metadata": {},
   "outputs": [
    {
     "data": {
      "text/html": [
       "<div>\n",
       "<style scoped>\n",
       "    .dataframe tbody tr th:only-of-type {\n",
       "        vertical-align: middle;\n",
       "    }\n",
       "\n",
       "    .dataframe tbody tr th {\n",
       "        vertical-align: top;\n",
       "    }\n",
       "\n",
       "    .dataframe thead th {\n",
       "        text-align: right;\n",
       "    }\n",
       "</style>\n",
       "<table border=\"1\" class=\"dataframe\">\n",
       "  <thead>\n",
       "    <tr style=\"text-align: right;\">\n",
       "      <th></th>\n",
       "      <th>age</th>\n",
       "      <th>gender</th>\n",
       "      <th>fysb_BMI</th>\n",
       "      <th>mapped_education</th>\n",
       "      <th>ptb_13118</th>\n",
       "      <th>mapped_employment_status</th>\n",
       "      <th>ptb_3764</th>\n",
       "      <th>ptb_comorbidities_8</th>\n",
       "      <th>ptb_koos_qol_score</th>\n",
       "    </tr>\n",
       "  </thead>\n",
       "  <tbody>\n",
       "  </tbody>\n",
       "</table>\n",
       "</div>"
      ],
      "text/plain": [
       "Empty DataFrame\n",
       "Columns: [age, gender, fysb_BMI, mapped_education, ptb_13118, mapped_employment_status, ptb_3764, ptb_comorbidities_8, ptb_koos_qol_score]\n",
       "Index: []"
      ]
     },
     "execution_count": 64,
     "metadata": {},
     "output_type": "execute_result"
    }
   ],
   "source": [
    "df_glad"
   ]
  },
  {
   "cell_type": "code",
   "execution_count": 65,
   "metadata": {},
   "outputs": [
    {
     "name": "stdout",
     "output_type": "stream",
     "text": [
      "(0, 9)\n",
      "0\n"
     ]
    }
   ],
   "source": [
    "print(df_glad.shape)\n",
    "print(df_glad.isna().sum().sum())\n"
   ]
  },
  {
   "cell_type": "code",
   "execution_count": 66,
   "metadata": {},
   "outputs": [
    {
     "data": {
      "text/plain": [
       "count    30484.000000\n",
       "mean        65.393977\n",
       "std          9.101285\n",
       "min         23.000000\n",
       "25%         60.000000\n",
       "50%         66.000000\n",
       "75%         72.000000\n",
       "max         92.000000\n",
       "Name: age, dtype: float64"
      ]
     },
     "execution_count": 66,
     "metadata": {},
     "output_type": "execute_result"
    }
   ],
   "source": [
    "dfg.age.describe()"
   ]
  },
  {
   "cell_type": "code",
   "execution_count": 68,
   "metadata": {},
   "outputs": [
    {
     "data": {
      "text/plain": [
       "count    4308.000000\n",
       "mean       61.169452\n",
       "std         9.166295\n",
       "min        45.000000\n",
       "25%        53.000000\n",
       "50%        61.000000\n",
       "75%        69.000000\n",
       "max        79.000000\n",
       "Name: V00AGE, dtype: float64"
      ]
     },
     "execution_count": 68,
     "metadata": {},
     "output_type": "execute_result"
    }
   ],
   "source": [
    "df.V00AGE.describe()"
   ]
  },
  {
   "cell_type": "code",
   "execution_count": 71,
   "metadata": {},
   "outputs": [
    {
     "data": {
      "text/plain": [
       "count    22119.000000\n",
       "mean        45.975274\n",
       "std         15.042374\n",
       "min          0.000000\n",
       "25%         37.500000\n",
       "50%         43.750000\n",
       "75%         56.250000\n",
       "max        100.000000\n",
       "Name: ptb_koos_qol_score, dtype: float64"
      ]
     },
     "execution_count": 71,
     "metadata": {},
     "output_type": "execute_result"
    }
   ],
   "source": [
    "dfg.ptb_koos_qol_score.describe()"
   ]
  },
  {
   "cell_type": "code",
   "execution_count": null,
   "metadata": {},
   "outputs": [],
   "source": []
  }
 ],
 "metadata": {
  "kernelspec": {
   "display_name": "physioai",
   "language": "python",
   "name": "python3"
  },
  "language_info": {
   "codemirror_mode": {
    "name": "ipython",
    "version": 3
   },
   "file_extension": ".py",
   "mimetype": "text/x-python",
   "name": "python",
   "nbconvert_exporter": "python",
   "pygments_lexer": "ipython3",
   "version": "3.10.13"
  }
 },
 "nbformat": 4,
 "nbformat_minor": 2
}
